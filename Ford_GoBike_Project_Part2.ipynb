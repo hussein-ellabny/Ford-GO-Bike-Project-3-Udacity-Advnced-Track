{
 "cells": [
  {
   "cell_type": "markdown",
   "metadata": {
    "slideshow": {
     "slide_type": "slide"
    }
   },
   "source": [
    "# Project: Ford GoBike Trip\n",
    "\n"
   ]
  },
  {
   "cell_type": "markdown",
   "metadata": {
    "slideshow": {
     "slide_type": "skip"
    }
   },
   "source": [
    "<a id='wrangling'></a>\n",
    "## 1- Preliminary Wrangling"
   ]
  },
  {
   "cell_type": "code",
   "execution_count": 1,
   "metadata": {
    "slideshow": {
     "slide_type": "skip"
    }
   },
   "outputs": [],
   "source": [
    "# import all packages and set plots to be embedded inline\n",
    "import numpy as np\n",
    "import pandas as pd\n",
    "import matplotlib.pyplot as plt\n",
    "import seaborn as sb\n",
    "\n",
    "%matplotlib inline\n",
    "# load in the dataset into a pandas dataframe, print statistics\n",
    "df_main = pd.read_csv('201902-fordgobike-tripdata.csv')"
   ]
  },
  {
   "cell_type": "code",
   "execution_count": 2,
   "metadata": {
    "slideshow": {
     "slide_type": "skip"
    }
   },
   "outputs": [],
   "source": [
    "## Copy the dataset\n",
    "df = df_main.copy()\n"
   ]
  },
  {
   "cell_type": "code",
   "execution_count": 3,
   "metadata": {
    "slideshow": {
     "slide_type": "skip"
    }
   },
   "outputs": [
    {
     "data": {
      "text/html": [
       "<div>\n",
       "<style scoped>\n",
       "    .dataframe tbody tr th:only-of-type {\n",
       "        vertical-align: middle;\n",
       "    }\n",
       "\n",
       "    .dataframe tbody tr th {\n",
       "        vertical-align: top;\n",
       "    }\n",
       "\n",
       "    .dataframe thead th {\n",
       "        text-align: right;\n",
       "    }\n",
       "</style>\n",
       "<table border=\"1\" class=\"dataframe\">\n",
       "  <thead>\n",
       "    <tr style=\"text-align: right;\">\n",
       "      <th></th>\n",
       "      <th>duration_hour</th>\n",
       "      <th>start_time</th>\n",
       "      <th>end_time</th>\n",
       "      <th>start_station_id</th>\n",
       "      <th>start_station_name</th>\n",
       "      <th>start_station_latitude</th>\n",
       "      <th>start_station_longitude</th>\n",
       "      <th>end_station_id</th>\n",
       "      <th>end_station_name</th>\n",
       "      <th>end_station_latitude</th>\n",
       "      <th>end_station_longitude</th>\n",
       "      <th>bike_id</th>\n",
       "      <th>user_type</th>\n",
       "      <th>member_birth_year</th>\n",
       "      <th>member_gender</th>\n",
       "      <th>bike_share_for_all_trip</th>\n",
       "    </tr>\n",
       "  </thead>\n",
       "  <tbody>\n",
       "    <tr>\n",
       "      <th>0</th>\n",
       "      <td>14.50</td>\n",
       "      <td>2019-02-28 17:32:10.1450</td>\n",
       "      <td>2019-03-01 08:01:55.9750</td>\n",
       "      <td>21.0</td>\n",
       "      <td>Montgomery St BART Station (Market St at 2nd St)</td>\n",
       "      <td>37.789625</td>\n",
       "      <td>-122.400811</td>\n",
       "      <td>13.0</td>\n",
       "      <td>Commercial St at Montgomery St</td>\n",
       "      <td>37.794231</td>\n",
       "      <td>-122.402923</td>\n",
       "      <td>4902</td>\n",
       "      <td>Customer</td>\n",
       "      <td>1984.0</td>\n",
       "      <td>Male</td>\n",
       "      <td>No</td>\n",
       "    </tr>\n",
       "    <tr>\n",
       "      <th>1</th>\n",
       "      <td>11.81</td>\n",
       "      <td>2019-02-28 18:53:21.7890</td>\n",
       "      <td>2019-03-01 06:42:03.0560</td>\n",
       "      <td>23.0</td>\n",
       "      <td>The Embarcadero at Steuart St</td>\n",
       "      <td>37.791464</td>\n",
       "      <td>-122.391034</td>\n",
       "      <td>81.0</td>\n",
       "      <td>Berry St at 4th St</td>\n",
       "      <td>37.775880</td>\n",
       "      <td>-122.393170</td>\n",
       "      <td>2535</td>\n",
       "      <td>Customer</td>\n",
       "      <td>NaN</td>\n",
       "      <td>NaN</td>\n",
       "      <td>No</td>\n",
       "    </tr>\n",
       "    <tr>\n",
       "      <th>2</th>\n",
       "      <td>17.18</td>\n",
       "      <td>2019-02-28 12:13:13.2180</td>\n",
       "      <td>2019-03-01 05:24:08.1460</td>\n",
       "      <td>86.0</td>\n",
       "      <td>Market St at Dolores St</td>\n",
       "      <td>37.769305</td>\n",
       "      <td>-122.426826</td>\n",
       "      <td>3.0</td>\n",
       "      <td>Powell St BART Station (Market St at 4th St)</td>\n",
       "      <td>37.786375</td>\n",
       "      <td>-122.404904</td>\n",
       "      <td>5905</td>\n",
       "      <td>Customer</td>\n",
       "      <td>1972.0</td>\n",
       "      <td>Male</td>\n",
       "      <td>No</td>\n",
       "    </tr>\n",
       "    <tr>\n",
       "      <th>3</th>\n",
       "      <td>10.14</td>\n",
       "      <td>2019-02-28 17:54:26.0100</td>\n",
       "      <td>2019-03-01 04:02:36.8420</td>\n",
       "      <td>375.0</td>\n",
       "      <td>Grove St at Masonic Ave</td>\n",
       "      <td>37.774836</td>\n",
       "      <td>-122.446546</td>\n",
       "      <td>70.0</td>\n",
       "      <td>Central Ave at Fell St</td>\n",
       "      <td>37.773311</td>\n",
       "      <td>-122.444293</td>\n",
       "      <td>6638</td>\n",
       "      <td>Subscriber</td>\n",
       "      <td>1989.0</td>\n",
       "      <td>Other</td>\n",
       "      <td>No</td>\n",
       "    </tr>\n",
       "    <tr>\n",
       "      <th>4</th>\n",
       "      <td>0.44</td>\n",
       "      <td>2019-02-28 23:54:18.5490</td>\n",
       "      <td>2019-03-01 00:20:44.0740</td>\n",
       "      <td>7.0</td>\n",
       "      <td>Frank H Ogawa Plaza</td>\n",
       "      <td>37.804562</td>\n",
       "      <td>-122.271738</td>\n",
       "      <td>222.0</td>\n",
       "      <td>10th Ave at E 15th St</td>\n",
       "      <td>37.792714</td>\n",
       "      <td>-122.248780</td>\n",
       "      <td>4898</td>\n",
       "      <td>Subscriber</td>\n",
       "      <td>1974.0</td>\n",
       "      <td>Male</td>\n",
       "      <td>Yes</td>\n",
       "    </tr>\n",
       "    <tr>\n",
       "      <th>...</th>\n",
       "      <td>...</td>\n",
       "      <td>...</td>\n",
       "      <td>...</td>\n",
       "      <td>...</td>\n",
       "      <td>...</td>\n",
       "      <td>...</td>\n",
       "      <td>...</td>\n",
       "      <td>...</td>\n",
       "      <td>...</td>\n",
       "      <td>...</td>\n",
       "      <td>...</td>\n",
       "      <td>...</td>\n",
       "      <td>...</td>\n",
       "      <td>...</td>\n",
       "      <td>...</td>\n",
       "      <td>...</td>\n",
       "    </tr>\n",
       "    <tr>\n",
       "      <th>183407</th>\n",
       "      <td>0.13</td>\n",
       "      <td>2019-02-01 00:04:49.7240</td>\n",
       "      <td>2019-02-01 00:12:50.0340</td>\n",
       "      <td>27.0</td>\n",
       "      <td>Beale St at Harrison St</td>\n",
       "      <td>37.788059</td>\n",
       "      <td>-122.391865</td>\n",
       "      <td>324.0</td>\n",
       "      <td>Union Square (Powell St at Post St)</td>\n",
       "      <td>37.788300</td>\n",
       "      <td>-122.408531</td>\n",
       "      <td>4832</td>\n",
       "      <td>Subscriber</td>\n",
       "      <td>1996.0</td>\n",
       "      <td>Male</td>\n",
       "      <td>No</td>\n",
       "    </tr>\n",
       "    <tr>\n",
       "      <th>183408</th>\n",
       "      <td>0.09</td>\n",
       "      <td>2019-02-01 00:05:34.7440</td>\n",
       "      <td>2019-02-01 00:10:48.5020</td>\n",
       "      <td>21.0</td>\n",
       "      <td>Montgomery St BART Station (Market St at 2nd St)</td>\n",
       "      <td>37.789625</td>\n",
       "      <td>-122.400811</td>\n",
       "      <td>66.0</td>\n",
       "      <td>3rd St at Townsend St</td>\n",
       "      <td>37.778742</td>\n",
       "      <td>-122.392741</td>\n",
       "      <td>4960</td>\n",
       "      <td>Subscriber</td>\n",
       "      <td>1984.0</td>\n",
       "      <td>Male</td>\n",
       "      <td>No</td>\n",
       "    </tr>\n",
       "    <tr>\n",
       "      <th>183409</th>\n",
       "      <td>0.04</td>\n",
       "      <td>2019-02-01 00:06:05.5490</td>\n",
       "      <td>2019-02-01 00:08:27.2200</td>\n",
       "      <td>278.0</td>\n",
       "      <td>The Alameda at Bush St</td>\n",
       "      <td>37.331932</td>\n",
       "      <td>-121.904888</td>\n",
       "      <td>277.0</td>\n",
       "      <td>Morrison Ave at Julian St</td>\n",
       "      <td>37.333658</td>\n",
       "      <td>-121.908586</td>\n",
       "      <td>3824</td>\n",
       "      <td>Subscriber</td>\n",
       "      <td>1990.0</td>\n",
       "      <td>Male</td>\n",
       "      <td>Yes</td>\n",
       "    </tr>\n",
       "    <tr>\n",
       "      <th>183410</th>\n",
       "      <td>0.04</td>\n",
       "      <td>2019-02-01 00:05:34.3600</td>\n",
       "      <td>2019-02-01 00:07:54.2870</td>\n",
       "      <td>220.0</td>\n",
       "      <td>San Pablo Ave at MLK Jr Way</td>\n",
       "      <td>37.811351</td>\n",
       "      <td>-122.273422</td>\n",
       "      <td>216.0</td>\n",
       "      <td>San Pablo Ave at 27th St</td>\n",
       "      <td>37.817827</td>\n",
       "      <td>-122.275698</td>\n",
       "      <td>5095</td>\n",
       "      <td>Subscriber</td>\n",
       "      <td>1988.0</td>\n",
       "      <td>Male</td>\n",
       "      <td>No</td>\n",
       "    </tr>\n",
       "    <tr>\n",
       "      <th>183411</th>\n",
       "      <td>0.08</td>\n",
       "      <td>2019-02-01 00:00:20.6360</td>\n",
       "      <td>2019-02-01 00:04:52.0580</td>\n",
       "      <td>24.0</td>\n",
       "      <td>Spear St at Folsom St</td>\n",
       "      <td>37.789677</td>\n",
       "      <td>-122.390428</td>\n",
       "      <td>37.0</td>\n",
       "      <td>2nd St at Folsom St</td>\n",
       "      <td>37.785000</td>\n",
       "      <td>-122.395936</td>\n",
       "      <td>1057</td>\n",
       "      <td>Subscriber</td>\n",
       "      <td>1989.0</td>\n",
       "      <td>Male</td>\n",
       "      <td>No</td>\n",
       "    </tr>\n",
       "  </tbody>\n",
       "</table>\n",
       "<p>183412 rows × 16 columns</p>\n",
       "</div>"
      ],
      "text/plain": [
       "        duration_hour                start_time                  end_time  \\\n",
       "0               14.50  2019-02-28 17:32:10.1450  2019-03-01 08:01:55.9750   \n",
       "1               11.81  2019-02-28 18:53:21.7890  2019-03-01 06:42:03.0560   \n",
       "2               17.18  2019-02-28 12:13:13.2180  2019-03-01 05:24:08.1460   \n",
       "3               10.14  2019-02-28 17:54:26.0100  2019-03-01 04:02:36.8420   \n",
       "4                0.44  2019-02-28 23:54:18.5490  2019-03-01 00:20:44.0740   \n",
       "...               ...                       ...                       ...   \n",
       "183407           0.13  2019-02-01 00:04:49.7240  2019-02-01 00:12:50.0340   \n",
       "183408           0.09  2019-02-01 00:05:34.7440  2019-02-01 00:10:48.5020   \n",
       "183409           0.04  2019-02-01 00:06:05.5490  2019-02-01 00:08:27.2200   \n",
       "183410           0.04  2019-02-01 00:05:34.3600  2019-02-01 00:07:54.2870   \n",
       "183411           0.08  2019-02-01 00:00:20.6360  2019-02-01 00:04:52.0580   \n",
       "\n",
       "        start_station_id                                start_station_name  \\\n",
       "0                   21.0  Montgomery St BART Station (Market St at 2nd St)   \n",
       "1                   23.0                     The Embarcadero at Steuart St   \n",
       "2                   86.0                           Market St at Dolores St   \n",
       "3                  375.0                           Grove St at Masonic Ave   \n",
       "4                    7.0                               Frank H Ogawa Plaza   \n",
       "...                  ...                                               ...   \n",
       "183407              27.0                           Beale St at Harrison St   \n",
       "183408              21.0  Montgomery St BART Station (Market St at 2nd St)   \n",
       "183409             278.0                            The Alameda at Bush St   \n",
       "183410             220.0                       San Pablo Ave at MLK Jr Way   \n",
       "183411              24.0                             Spear St at Folsom St   \n",
       "\n",
       "        start_station_latitude  start_station_longitude  end_station_id  \\\n",
       "0                    37.789625              -122.400811            13.0   \n",
       "1                    37.791464              -122.391034            81.0   \n",
       "2                    37.769305              -122.426826             3.0   \n",
       "3                    37.774836              -122.446546            70.0   \n",
       "4                    37.804562              -122.271738           222.0   \n",
       "...                        ...                      ...             ...   \n",
       "183407               37.788059              -122.391865           324.0   \n",
       "183408               37.789625              -122.400811            66.0   \n",
       "183409               37.331932              -121.904888           277.0   \n",
       "183410               37.811351              -122.273422           216.0   \n",
       "183411               37.789677              -122.390428            37.0   \n",
       "\n",
       "                                    end_station_name  end_station_latitude  \\\n",
       "0                     Commercial St at Montgomery St             37.794231   \n",
       "1                                 Berry St at 4th St             37.775880   \n",
       "2       Powell St BART Station (Market St at 4th St)             37.786375   \n",
       "3                             Central Ave at Fell St             37.773311   \n",
       "4                              10th Ave at E 15th St             37.792714   \n",
       "...                                              ...                   ...   \n",
       "183407           Union Square (Powell St at Post St)             37.788300   \n",
       "183408                         3rd St at Townsend St             37.778742   \n",
       "183409                     Morrison Ave at Julian St             37.333658   \n",
       "183410                      San Pablo Ave at 27th St             37.817827   \n",
       "183411                           2nd St at Folsom St             37.785000   \n",
       "\n",
       "        end_station_longitude  bike_id   user_type  member_birth_year  \\\n",
       "0                 -122.402923     4902    Customer             1984.0   \n",
       "1                 -122.393170     2535    Customer                NaN   \n",
       "2                 -122.404904     5905    Customer             1972.0   \n",
       "3                 -122.444293     6638  Subscriber             1989.0   \n",
       "4                 -122.248780     4898  Subscriber             1974.0   \n",
       "...                       ...      ...         ...                ...   \n",
       "183407            -122.408531     4832  Subscriber             1996.0   \n",
       "183408            -122.392741     4960  Subscriber             1984.0   \n",
       "183409            -121.908586     3824  Subscriber             1990.0   \n",
       "183410            -122.275698     5095  Subscriber             1988.0   \n",
       "183411            -122.395936     1057  Subscriber             1989.0   \n",
       "\n",
       "       member_gender bike_share_for_all_trip  \n",
       "0               Male                      No  \n",
       "1                NaN                      No  \n",
       "2               Male                      No  \n",
       "3              Other                      No  \n",
       "4               Male                     Yes  \n",
       "...              ...                     ...  \n",
       "183407          Male                      No  \n",
       "183408          Male                      No  \n",
       "183409          Male                     Yes  \n",
       "183410          Male                      No  \n",
       "183411          Male                      No  \n",
       "\n",
       "[183412 rows x 16 columns]"
      ]
     },
     "execution_count": 3,
     "metadata": {},
     "output_type": "execute_result"
    }
   ],
   "source": [
    "df = df.rename(columns={\"duration_sec\": \"duration_hour\"})\n",
    "df.duration_hour = df.duration_hour / 3600\n",
    "df.duration_hour = df.duration_hour.round(decimals=2)\n",
    "df"
   ]
  },
  {
   "cell_type": "code",
   "execution_count": 4,
   "metadata": {
    "slideshow": {
     "slide_type": "skip"
    }
   },
   "outputs": [
    {
     "name": "stdout",
     "output_type": "stream",
     "text": [
      "<class 'pandas.core.frame.DataFrame'>\n",
      "Int64Index: 174952 entries, 0 to 183411\n",
      "Data columns (total 16 columns):\n",
      " #   Column                   Non-Null Count   Dtype  \n",
      "---  ------                   --------------   -----  \n",
      " 0   duration_hour            174952 non-null  float64\n",
      " 1   start_time               174952 non-null  object \n",
      " 2   end_time                 174952 non-null  object \n",
      " 3   start_station_id         174952 non-null  float64\n",
      " 4   start_station_name       174952 non-null  object \n",
      " 5   start_station_latitude   174952 non-null  float64\n",
      " 6   start_station_longitude  174952 non-null  float64\n",
      " 7   end_station_id           174952 non-null  float64\n",
      " 8   end_station_name         174952 non-null  object \n",
      " 9   end_station_latitude     174952 non-null  float64\n",
      " 10  end_station_longitude    174952 non-null  float64\n",
      " 11  bike_id                  174952 non-null  int64  \n",
      " 12  user_type                174952 non-null  object \n",
      " 13  member_birth_year        174952 non-null  float64\n",
      " 14  member_gender            174952 non-null  object \n",
      " 15  bike_share_for_all_trip  174952 non-null  object \n",
      "dtypes: float64(8), int64(1), object(7)\n",
      "memory usage: 22.7+ MB\n"
     ]
    }
   ],
   "source": [
    "## Drop Nan Values\n",
    "df = df.dropna()\n",
    "df.info()"
   ]
  },
  {
   "cell_type": "code",
   "execution_count": 5,
   "metadata": {
    "slideshow": {
     "slide_type": "skip"
    }
   },
   "outputs": [
    {
     "data": {
      "text/plain": [
       "63    1901.0\n",
       "69    1902.0\n",
       "70    1910.0\n",
       "60    1920.0\n",
       "72    1927.0\n",
       "       ...  \n",
       "15    1997.0\n",
       "26    1998.0\n",
       "29    1999.0\n",
       "17    2000.0\n",
       "62    2001.0\n",
       "Length: 73, dtype: float64"
      ]
     },
     "execution_count": 5,
     "metadata": {},
     "output_type": "execute_result"
    }
   ],
   "source": [
    "## Drop member_birth_year values less than 1900 (as verified oldest person age is 122 year ) .\n",
    "df = df.loc[df.member_birth_year  > 1900 ]\n",
    "b = pd.Series(df['member_birth_year'].unique()).sort_values()\n",
    "b"
   ]
  },
  {
   "cell_type": "code",
   "execution_count": 6,
   "metadata": {
    "slideshow": {
     "slide_type": "skip"
    }
   },
   "outputs": [
    {
     "name": "stdout",
     "output_type": "stream",
     "text": [
      "62     18\n",
      "17     19\n",
      "29     20\n",
      "26     21\n",
      "15     22\n",
      "     ... \n",
      "72     92\n",
      "60     99\n",
      "70    109\n",
      "69    117\n",
      "63    118\n",
      "Length: 73, dtype: int32\n"
     ]
    }
   ],
   "source": [
    "## Get the age of the users then drop usage year column used to get user_age .\n",
    "df['usage_year'] = pd.DatetimeIndex(df['start_time']).year\n",
    "df['user_age'] =  df['usage_year'] - df['member_birth_year']\n",
    "\n",
    "df['user_age'] = df['user_age'].astype(int)\n",
    "df['member_birth_year'] = df['member_birth_year'].astype(int)\n",
    "\n",
    "c = pd.Series(df['user_age'].unique()).sort_values()\n",
    "df.drop(['usage_year'], axis='columns', inplace=True)\n",
    "\n",
    "print(c)"
   ]
  },
  {
   "cell_type": "code",
   "execution_count": 7,
   "metadata": {
    "slideshow": {
     "slide_type": "skip"
    }
   },
   "outputs": [
    {
     "name": "stdout",
     "output_type": "stream",
     "text": [
      "<class 'pandas.core.frame.DataFrame'>\n",
      "Int64Index: 174898 entries, 0 to 183411\n",
      "Data columns (total 17 columns):\n",
      " #   Column                   Non-Null Count   Dtype         \n",
      "---  ------                   --------------   -----         \n",
      " 0   duration_hour            174898 non-null  float64       \n",
      " 1   start_time               174898 non-null  datetime64[ns]\n",
      " 2   end_time                 174898 non-null  datetime64[ns]\n",
      " 3   start_station_id         174898 non-null  int64         \n",
      " 4   start_station_name       174898 non-null  category      \n",
      " 5   start_station_latitude   174898 non-null  float64       \n",
      " 6   start_station_longitude  174898 non-null  float64       \n",
      " 7   end_station_id           174898 non-null  int64         \n",
      " 8   end_station_name         174898 non-null  category      \n",
      " 9   end_station_latitude     174898 non-null  float64       \n",
      " 10  end_station_longitude    174898 non-null  float64       \n",
      " 11  bike_id                  174898 non-null  category      \n",
      " 12  user_type                174898 non-null  category      \n",
      " 13  member_birth_year        174898 non-null  category      \n",
      " 14  member_gender            174898 non-null  category      \n",
      " 15  bike_share_for_all_trip  174898 non-null  bool          \n",
      " 16  user_age                 174898 non-null  int64         \n",
      "dtypes: bool(1), category(6), datetime64[ns](2), float64(5), int64(3)\n",
      "memory usage: 16.6 MB\n"
     ]
    }
   ],
   "source": [
    "## Change columns type : \n",
    "## (start_time , end_time ) to datetime64 .\n",
    "## (start_station_id , end_station_id , user_age) to int64 .\n",
    "## (start_station_name , end_station_name, bike_id , user_type , member_birth_year , member_gender ) to category .\n",
    "## (bike_share_for_all_trip) to boolean .\n",
    "\n",
    "convert_dict = {'start_time': 'datetime64',\n",
    "                'end_time': 'datetime64',\n",
    "                'start_station_id': 'int64',\n",
    "                'end_station_id': 'int64',\n",
    "                'user_age': 'int64',\n",
    "                'start_station_name': 'category',\n",
    "                'end_station_name': 'category',\n",
    "                'bike_id': 'category',\n",
    "                'user_type': 'category',\n",
    "                'member_birth_year': 'category',\n",
    "                'member_gender': 'category',\n",
    "                'bike_share_for_all_trip': bool\n",
    "               }\n",
    "\n",
    "df = df.astype(convert_dict)\n",
    "df.info()"
   ]
  },
  {
   "cell_type": "code",
   "execution_count": 8,
   "metadata": {
    "slideshow": {
     "slide_type": "skip"
    }
   },
   "outputs": [
    {
     "data": {
      "text/html": [
       "<div>\n",
       "<style scoped>\n",
       "    .dataframe tbody tr th:only-of-type {\n",
       "        vertical-align: middle;\n",
       "    }\n",
       "\n",
       "    .dataframe tbody tr th {\n",
       "        vertical-align: top;\n",
       "    }\n",
       "\n",
       "    .dataframe thead th {\n",
       "        text-align: right;\n",
       "    }\n",
       "</style>\n",
       "<table border=\"1\" class=\"dataframe\">\n",
       "  <thead>\n",
       "    <tr style=\"text-align: right;\">\n",
       "      <th></th>\n",
       "      <th>duration_hour</th>\n",
       "      <th>start_time</th>\n",
       "      <th>end_time</th>\n",
       "      <th>start_station_id</th>\n",
       "      <th>start_station_name</th>\n",
       "      <th>start_station_latitude</th>\n",
       "      <th>start_station_longitude</th>\n",
       "      <th>end_station_id</th>\n",
       "      <th>end_station_name</th>\n",
       "      <th>end_station_latitude</th>\n",
       "      <th>end_station_longitude</th>\n",
       "      <th>bike_id</th>\n",
       "      <th>user_type</th>\n",
       "      <th>member_birth_year</th>\n",
       "      <th>member_gender</th>\n",
       "      <th>bike_share_for_all_trip</th>\n",
       "      <th>user_age</th>\n",
       "    </tr>\n",
       "  </thead>\n",
       "  <tbody>\n",
       "    <tr>\n",
       "      <th>0</th>\n",
       "      <td>14.50</td>\n",
       "      <td>2019-02-28 17:32:10.145</td>\n",
       "      <td>2019-03-01 08:01:55.975</td>\n",
       "      <td>21</td>\n",
       "      <td>Montgomery St BART Station (Market St at 2nd St)</td>\n",
       "      <td>37.789625</td>\n",
       "      <td>-122.400811</td>\n",
       "      <td>13</td>\n",
       "      <td>Commercial St at Montgomery St</td>\n",
       "      <td>37.794231</td>\n",
       "      <td>-122.402923</td>\n",
       "      <td>4902</td>\n",
       "      <td>Customer</td>\n",
       "      <td>1984</td>\n",
       "      <td>Male</td>\n",
       "      <td>True</td>\n",
       "      <td>35</td>\n",
       "    </tr>\n",
       "    <tr>\n",
       "      <th>1</th>\n",
       "      <td>17.18</td>\n",
       "      <td>2019-02-28 12:13:13.218</td>\n",
       "      <td>2019-03-01 05:24:08.146</td>\n",
       "      <td>86</td>\n",
       "      <td>Market St at Dolores St</td>\n",
       "      <td>37.769305</td>\n",
       "      <td>-122.426826</td>\n",
       "      <td>3</td>\n",
       "      <td>Powell St BART Station (Market St at 4th St)</td>\n",
       "      <td>37.786375</td>\n",
       "      <td>-122.404904</td>\n",
       "      <td>5905</td>\n",
       "      <td>Customer</td>\n",
       "      <td>1972</td>\n",
       "      <td>Male</td>\n",
       "      <td>True</td>\n",
       "      <td>47</td>\n",
       "    </tr>\n",
       "    <tr>\n",
       "      <th>2</th>\n",
       "      <td>10.14</td>\n",
       "      <td>2019-02-28 17:54:26.010</td>\n",
       "      <td>2019-03-01 04:02:36.842</td>\n",
       "      <td>375</td>\n",
       "      <td>Grove St at Masonic Ave</td>\n",
       "      <td>37.774836</td>\n",
       "      <td>-122.446546</td>\n",
       "      <td>70</td>\n",
       "      <td>Central Ave at Fell St</td>\n",
       "      <td>37.773311</td>\n",
       "      <td>-122.444293</td>\n",
       "      <td>6638</td>\n",
       "      <td>Subscriber</td>\n",
       "      <td>1989</td>\n",
       "      <td>Other</td>\n",
       "      <td>True</td>\n",
       "      <td>30</td>\n",
       "    </tr>\n",
       "    <tr>\n",
       "      <th>3</th>\n",
       "      <td>0.44</td>\n",
       "      <td>2019-02-28 23:54:18.549</td>\n",
       "      <td>2019-03-01 00:20:44.074</td>\n",
       "      <td>7</td>\n",
       "      <td>Frank H Ogawa Plaza</td>\n",
       "      <td>37.804562</td>\n",
       "      <td>-122.271738</td>\n",
       "      <td>222</td>\n",
       "      <td>10th Ave at E 15th St</td>\n",
       "      <td>37.792714</td>\n",
       "      <td>-122.248780</td>\n",
       "      <td>4898</td>\n",
       "      <td>Subscriber</td>\n",
       "      <td>1974</td>\n",
       "      <td>Male</td>\n",
       "      <td>True</td>\n",
       "      <td>45</td>\n",
       "    </tr>\n",
       "    <tr>\n",
       "      <th>4</th>\n",
       "      <td>0.50</td>\n",
       "      <td>2019-02-28 23:49:58.632</td>\n",
       "      <td>2019-03-01 00:19:51.760</td>\n",
       "      <td>93</td>\n",
       "      <td>4th St at Mission Bay Blvd S</td>\n",
       "      <td>37.770407</td>\n",
       "      <td>-122.391198</td>\n",
       "      <td>323</td>\n",
       "      <td>Broadway at Kearny</td>\n",
       "      <td>37.798014</td>\n",
       "      <td>-122.405950</td>\n",
       "      <td>5200</td>\n",
       "      <td>Subscriber</td>\n",
       "      <td>1959</td>\n",
       "      <td>Male</td>\n",
       "      <td>True</td>\n",
       "      <td>60</td>\n",
       "    </tr>\n",
       "    <tr>\n",
       "      <th>...</th>\n",
       "      <td>...</td>\n",
       "      <td>...</td>\n",
       "      <td>...</td>\n",
       "      <td>...</td>\n",
       "      <td>...</td>\n",
       "      <td>...</td>\n",
       "      <td>...</td>\n",
       "      <td>...</td>\n",
       "      <td>...</td>\n",
       "      <td>...</td>\n",
       "      <td>...</td>\n",
       "      <td>...</td>\n",
       "      <td>...</td>\n",
       "      <td>...</td>\n",
       "      <td>...</td>\n",
       "      <td>...</td>\n",
       "      <td>...</td>\n",
       "    </tr>\n",
       "    <tr>\n",
       "      <th>174893</th>\n",
       "      <td>0.13</td>\n",
       "      <td>2019-02-01 00:04:49.724</td>\n",
       "      <td>2019-02-01 00:12:50.034</td>\n",
       "      <td>27</td>\n",
       "      <td>Beale St at Harrison St</td>\n",
       "      <td>37.788059</td>\n",
       "      <td>-122.391865</td>\n",
       "      <td>324</td>\n",
       "      <td>Union Square (Powell St at Post St)</td>\n",
       "      <td>37.788300</td>\n",
       "      <td>-122.408531</td>\n",
       "      <td>4832</td>\n",
       "      <td>Subscriber</td>\n",
       "      <td>1996</td>\n",
       "      <td>Male</td>\n",
       "      <td>True</td>\n",
       "      <td>23</td>\n",
       "    </tr>\n",
       "    <tr>\n",
       "      <th>174894</th>\n",
       "      <td>0.09</td>\n",
       "      <td>2019-02-01 00:05:34.744</td>\n",
       "      <td>2019-02-01 00:10:48.502</td>\n",
       "      <td>21</td>\n",
       "      <td>Montgomery St BART Station (Market St at 2nd St)</td>\n",
       "      <td>37.789625</td>\n",
       "      <td>-122.400811</td>\n",
       "      <td>66</td>\n",
       "      <td>3rd St at Townsend St</td>\n",
       "      <td>37.778742</td>\n",
       "      <td>-122.392741</td>\n",
       "      <td>4960</td>\n",
       "      <td>Subscriber</td>\n",
       "      <td>1984</td>\n",
       "      <td>Male</td>\n",
       "      <td>True</td>\n",
       "      <td>35</td>\n",
       "    </tr>\n",
       "    <tr>\n",
       "      <th>174895</th>\n",
       "      <td>0.04</td>\n",
       "      <td>2019-02-01 00:06:05.549</td>\n",
       "      <td>2019-02-01 00:08:27.220</td>\n",
       "      <td>278</td>\n",
       "      <td>The Alameda at Bush St</td>\n",
       "      <td>37.331932</td>\n",
       "      <td>-121.904888</td>\n",
       "      <td>277</td>\n",
       "      <td>Morrison Ave at Julian St</td>\n",
       "      <td>37.333658</td>\n",
       "      <td>-121.908586</td>\n",
       "      <td>3824</td>\n",
       "      <td>Subscriber</td>\n",
       "      <td>1990</td>\n",
       "      <td>Male</td>\n",
       "      <td>True</td>\n",
       "      <td>29</td>\n",
       "    </tr>\n",
       "    <tr>\n",
       "      <th>174896</th>\n",
       "      <td>0.04</td>\n",
       "      <td>2019-02-01 00:05:34.360</td>\n",
       "      <td>2019-02-01 00:07:54.287</td>\n",
       "      <td>220</td>\n",
       "      <td>San Pablo Ave at MLK Jr Way</td>\n",
       "      <td>37.811351</td>\n",
       "      <td>-122.273422</td>\n",
       "      <td>216</td>\n",
       "      <td>San Pablo Ave at 27th St</td>\n",
       "      <td>37.817827</td>\n",
       "      <td>-122.275698</td>\n",
       "      <td>5095</td>\n",
       "      <td>Subscriber</td>\n",
       "      <td>1988</td>\n",
       "      <td>Male</td>\n",
       "      <td>True</td>\n",
       "      <td>31</td>\n",
       "    </tr>\n",
       "    <tr>\n",
       "      <th>174897</th>\n",
       "      <td>0.08</td>\n",
       "      <td>2019-02-01 00:00:20.636</td>\n",
       "      <td>2019-02-01 00:04:52.058</td>\n",
       "      <td>24</td>\n",
       "      <td>Spear St at Folsom St</td>\n",
       "      <td>37.789677</td>\n",
       "      <td>-122.390428</td>\n",
       "      <td>37</td>\n",
       "      <td>2nd St at Folsom St</td>\n",
       "      <td>37.785000</td>\n",
       "      <td>-122.395936</td>\n",
       "      <td>1057</td>\n",
       "      <td>Subscriber</td>\n",
       "      <td>1989</td>\n",
       "      <td>Male</td>\n",
       "      <td>True</td>\n",
       "      <td>30</td>\n",
       "    </tr>\n",
       "  </tbody>\n",
       "</table>\n",
       "<p>174898 rows × 17 columns</p>\n",
       "</div>"
      ],
      "text/plain": [
       "        duration_hour              start_time                end_time  \\\n",
       "0               14.50 2019-02-28 17:32:10.145 2019-03-01 08:01:55.975   \n",
       "1               17.18 2019-02-28 12:13:13.218 2019-03-01 05:24:08.146   \n",
       "2               10.14 2019-02-28 17:54:26.010 2019-03-01 04:02:36.842   \n",
       "3                0.44 2019-02-28 23:54:18.549 2019-03-01 00:20:44.074   \n",
       "4                0.50 2019-02-28 23:49:58.632 2019-03-01 00:19:51.760   \n",
       "...               ...                     ...                     ...   \n",
       "174893           0.13 2019-02-01 00:04:49.724 2019-02-01 00:12:50.034   \n",
       "174894           0.09 2019-02-01 00:05:34.744 2019-02-01 00:10:48.502   \n",
       "174895           0.04 2019-02-01 00:06:05.549 2019-02-01 00:08:27.220   \n",
       "174896           0.04 2019-02-01 00:05:34.360 2019-02-01 00:07:54.287   \n",
       "174897           0.08 2019-02-01 00:00:20.636 2019-02-01 00:04:52.058   \n",
       "\n",
       "        start_station_id                                start_station_name  \\\n",
       "0                     21  Montgomery St BART Station (Market St at 2nd St)   \n",
       "1                     86                           Market St at Dolores St   \n",
       "2                    375                           Grove St at Masonic Ave   \n",
       "3                      7                               Frank H Ogawa Plaza   \n",
       "4                     93                      4th St at Mission Bay Blvd S   \n",
       "...                  ...                                               ...   \n",
       "174893                27                           Beale St at Harrison St   \n",
       "174894                21  Montgomery St BART Station (Market St at 2nd St)   \n",
       "174895               278                            The Alameda at Bush St   \n",
       "174896               220                       San Pablo Ave at MLK Jr Way   \n",
       "174897                24                             Spear St at Folsom St   \n",
       "\n",
       "        start_station_latitude  start_station_longitude  end_station_id  \\\n",
       "0                    37.789625              -122.400811              13   \n",
       "1                    37.769305              -122.426826               3   \n",
       "2                    37.774836              -122.446546              70   \n",
       "3                    37.804562              -122.271738             222   \n",
       "4                    37.770407              -122.391198             323   \n",
       "...                        ...                      ...             ...   \n",
       "174893               37.788059              -122.391865             324   \n",
       "174894               37.789625              -122.400811              66   \n",
       "174895               37.331932              -121.904888             277   \n",
       "174896               37.811351              -122.273422             216   \n",
       "174897               37.789677              -122.390428              37   \n",
       "\n",
       "                                    end_station_name  end_station_latitude  \\\n",
       "0                     Commercial St at Montgomery St             37.794231   \n",
       "1       Powell St BART Station (Market St at 4th St)             37.786375   \n",
       "2                             Central Ave at Fell St             37.773311   \n",
       "3                              10th Ave at E 15th St             37.792714   \n",
       "4                                 Broadway at Kearny             37.798014   \n",
       "...                                              ...                   ...   \n",
       "174893           Union Square (Powell St at Post St)             37.788300   \n",
       "174894                         3rd St at Townsend St             37.778742   \n",
       "174895                     Morrison Ave at Julian St             37.333658   \n",
       "174896                      San Pablo Ave at 27th St             37.817827   \n",
       "174897                           2nd St at Folsom St             37.785000   \n",
       "\n",
       "        end_station_longitude bike_id   user_type member_birth_year  \\\n",
       "0                 -122.402923    4902    Customer              1984   \n",
       "1                 -122.404904    5905    Customer              1972   \n",
       "2                 -122.444293    6638  Subscriber              1989   \n",
       "3                 -122.248780    4898  Subscriber              1974   \n",
       "4                 -122.405950    5200  Subscriber              1959   \n",
       "...                       ...     ...         ...               ...   \n",
       "174893            -122.408531    4832  Subscriber              1996   \n",
       "174894            -122.392741    4960  Subscriber              1984   \n",
       "174895            -121.908586    3824  Subscriber              1990   \n",
       "174896            -122.275698    5095  Subscriber              1988   \n",
       "174897            -122.395936    1057  Subscriber              1989   \n",
       "\n",
       "       member_gender  bike_share_for_all_trip  user_age  \n",
       "0               Male                     True        35  \n",
       "1               Male                     True        47  \n",
       "2              Other                     True        30  \n",
       "3               Male                     True        45  \n",
       "4               Male                     True        60  \n",
       "...              ...                      ...       ...  \n",
       "174893          Male                     True        23  \n",
       "174894          Male                     True        35  \n",
       "174895          Male                     True        29  \n",
       "174896          Male                     True        31  \n",
       "174897          Male                     True        30  \n",
       "\n",
       "[174898 rows x 17 columns]"
      ]
     },
     "execution_count": 8,
     "metadata": {},
     "output_type": "execute_result"
    }
   ],
   "source": [
    "df.reset_index(drop=True)"
   ]
  },
  {
   "cell_type": "code",
   "execution_count": 9,
   "metadata": {
    "slideshow": {
     "slide_type": "skip"
    }
   },
   "outputs": [
    {
     "data": {
      "text/html": [
       "<div>\n",
       "<style scoped>\n",
       "    .dataframe tbody tr th:only-of-type {\n",
       "        vertical-align: middle;\n",
       "    }\n",
       "\n",
       "    .dataframe tbody tr th {\n",
       "        vertical-align: top;\n",
       "    }\n",
       "\n",
       "    .dataframe thead th {\n",
       "        text-align: right;\n",
       "    }\n",
       "</style>\n",
       "<table border=\"1\" class=\"dataframe\">\n",
       "  <thead>\n",
       "    <tr style=\"text-align: right;\">\n",
       "      <th></th>\n",
       "      <th>duration_hour</th>\n",
       "      <th>start_time</th>\n",
       "      <th>end_time</th>\n",
       "      <th>start_station_id</th>\n",
       "      <th>start_station_name</th>\n",
       "      <th>start_station_latitude</th>\n",
       "      <th>start_station_longitude</th>\n",
       "      <th>end_station_id</th>\n",
       "      <th>end_station_name</th>\n",
       "      <th>end_station_latitude</th>\n",
       "      <th>end_station_longitude</th>\n",
       "      <th>bike_id</th>\n",
       "      <th>user_type</th>\n",
       "      <th>member_birth_year</th>\n",
       "      <th>member_gender</th>\n",
       "      <th>bike_share_for_all_trip</th>\n",
       "      <th>user_age</th>\n",
       "    </tr>\n",
       "  </thead>\n",
       "  <tbody>\n",
       "    <tr>\n",
       "      <th>0</th>\n",
       "      <td>0.11</td>\n",
       "      <td>2019-02-28 23:49:24.399</td>\n",
       "      <td>2019-02-28 23:55:50.284</td>\n",
       "      <td>6</td>\n",
       "      <td>The Embarcadero at Sansome St</td>\n",
       "      <td>37.804770</td>\n",
       "      <td>-122.403234</td>\n",
       "      <td>15</td>\n",
       "      <td>San Francisco Ferry Building (Harry Bridges Pl...</td>\n",
       "      <td>37.795392</td>\n",
       "      <td>-122.394203</td>\n",
       "      <td>6531</td>\n",
       "      <td>Customer</td>\n",
       "      <td>2000</td>\n",
       "      <td>Male</td>\n",
       "      <td>True</td>\n",
       "      <td>19</td>\n",
       "    </tr>\n",
       "    <tr>\n",
       "      <th>1</th>\n",
       "      <td>0.15</td>\n",
       "      <td>2019-02-28 22:58:06.628</td>\n",
       "      <td>2019-02-28 23:07:09.508</td>\n",
       "      <td>5</td>\n",
       "      <td>Powell St BART Station (Market St at 5th St)</td>\n",
       "      <td>37.783899</td>\n",
       "      <td>-122.408445</td>\n",
       "      <td>67</td>\n",
       "      <td>San Francisco Caltrain Station 2  (Townsend St...</td>\n",
       "      <td>37.776639</td>\n",
       "      <td>-122.395526</td>\n",
       "      <td>1936</td>\n",
       "      <td>Subscriber</td>\n",
       "      <td>1995</td>\n",
       "      <td>Male</td>\n",
       "      <td>True</td>\n",
       "      <td>24</td>\n",
       "    </tr>\n",
       "    <tr>\n",
       "      <th>2</th>\n",
       "      <td>0.10</td>\n",
       "      <td>2019-02-28 23:00:05.223</td>\n",
       "      <td>2019-02-28 23:06:21.515</td>\n",
       "      <td>58</td>\n",
       "      <td>Market St at 10th St</td>\n",
       "      <td>37.776619</td>\n",
       "      <td>-122.417385</td>\n",
       "      <td>21</td>\n",
       "      <td>Montgomery St BART Station (Market St at 2nd St)</td>\n",
       "      <td>37.789625</td>\n",
       "      <td>-122.400811</td>\n",
       "      <td>5731</td>\n",
       "      <td>Subscriber</td>\n",
       "      <td>1982</td>\n",
       "      <td>Male</td>\n",
       "      <td>True</td>\n",
       "      <td>37</td>\n",
       "    </tr>\n",
       "    <tr>\n",
       "      <th>3</th>\n",
       "      <td>0.09</td>\n",
       "      <td>2019-02-28 22:48:04.158</td>\n",
       "      <td>2019-02-28 22:53:29.926</td>\n",
       "      <td>5</td>\n",
       "      <td>Powell St BART Station (Market St at 5th St)</td>\n",
       "      <td>37.783899</td>\n",
       "      <td>-122.408445</td>\n",
       "      <td>67</td>\n",
       "      <td>San Francisco Caltrain Station 2  (Townsend St...</td>\n",
       "      <td>37.776639</td>\n",
       "      <td>-122.395526</td>\n",
       "      <td>5012</td>\n",
       "      <td>Subscriber</td>\n",
       "      <td>1990</td>\n",
       "      <td>Male</td>\n",
       "      <td>True</td>\n",
       "      <td>29</td>\n",
       "    </tr>\n",
       "    <tr>\n",
       "      <th>4</th>\n",
       "      <td>1.39</td>\n",
       "      <td>2019-02-28 21:22:51.632</td>\n",
       "      <td>2019-02-28 22:46:10.114</td>\n",
       "      <td>6</td>\n",
       "      <td>The Embarcadero at Sansome St</td>\n",
       "      <td>37.804770</td>\n",
       "      <td>-122.403234</td>\n",
       "      <td>16</td>\n",
       "      <td>Steuart St at Market St</td>\n",
       "      <td>37.794130</td>\n",
       "      <td>-122.394430</td>\n",
       "      <td>5149</td>\n",
       "      <td>Customer</td>\n",
       "      <td>1987</td>\n",
       "      <td>Male</td>\n",
       "      <td>True</td>\n",
       "      <td>32</td>\n",
       "    </tr>\n",
       "  </tbody>\n",
       "</table>\n",
       "</div>"
      ],
      "text/plain": [
       "   duration_hour              start_time                end_time  \\\n",
       "0           0.11 2019-02-28 23:49:24.399 2019-02-28 23:55:50.284   \n",
       "1           0.15 2019-02-28 22:58:06.628 2019-02-28 23:07:09.508   \n",
       "2           0.10 2019-02-28 23:00:05.223 2019-02-28 23:06:21.515   \n",
       "3           0.09 2019-02-28 22:48:04.158 2019-02-28 22:53:29.926   \n",
       "4           1.39 2019-02-28 21:22:51.632 2019-02-28 22:46:10.114   \n",
       "\n",
       "   start_station_id                            start_station_name  \\\n",
       "0                 6                 The Embarcadero at Sansome St   \n",
       "1                 5  Powell St BART Station (Market St at 5th St)   \n",
       "2                58                          Market St at 10th St   \n",
       "3                 5  Powell St BART Station (Market St at 5th St)   \n",
       "4                 6                 The Embarcadero at Sansome St   \n",
       "\n",
       "   start_station_latitude  start_station_longitude  end_station_id  \\\n",
       "0               37.804770              -122.403234              15   \n",
       "1               37.783899              -122.408445              67   \n",
       "2               37.776619              -122.417385              21   \n",
       "3               37.783899              -122.408445              67   \n",
       "4               37.804770              -122.403234              16   \n",
       "\n",
       "                                    end_station_name  end_station_latitude  \\\n",
       "0  San Francisco Ferry Building (Harry Bridges Pl...             37.795392   \n",
       "1  San Francisco Caltrain Station 2  (Townsend St...             37.776639   \n",
       "2   Montgomery St BART Station (Market St at 2nd St)             37.789625   \n",
       "3  San Francisco Caltrain Station 2  (Townsend St...             37.776639   \n",
       "4                            Steuart St at Market St             37.794130   \n",
       "\n",
       "   end_station_longitude bike_id   user_type member_birth_year member_gender  \\\n",
       "0            -122.394203    6531    Customer              2000          Male   \n",
       "1            -122.395526    1936  Subscriber              1995          Male   \n",
       "2            -122.400811    5731  Subscriber              1982          Male   \n",
       "3            -122.395526    5012  Subscriber              1990          Male   \n",
       "4            -122.394430    5149    Customer              1987          Male   \n",
       "\n",
       "   bike_share_for_all_trip  user_age  \n",
       "0                     True        19  \n",
       "1                     True        24  \n",
       "2                     True        37  \n",
       "3                     True        29  \n",
       "4                     True        32  "
      ]
     },
     "execution_count": 9,
     "metadata": {},
     "output_type": "execute_result"
    }
   ],
   "source": [
    "## The most 15 start &end stations that have high customers density \n",
    "start_st = df['start_station_name'].value_counts()[:15].index\n",
    "end_st = df['end_station_name'].value_counts()[:15].index\n",
    "\n",
    "df_15 = df.loc[(df['start_station_name'].isin(start_st)) & (df['end_station_name'].isin(end_st))]\n",
    "df_15 = df_15.reset_index(drop=True)\n",
    "df_15.head()"
   ]
  },
  {
   "cell_type": "markdown",
   "metadata": {
    "slideshow": {
     "slide_type": "slide"
    }
   },
   "source": [
    "### Investigation Overview\n",
    "I will investigate the data in the locations that have the most density as this will help in marketing specially in ( customer targeting & offers ) to increase sales ."
   ]
  },
  {
   "cell_type": "markdown",
   "metadata": {
    "slideshow": {
     "slide_type": "slide"
    }
   },
   "source": [
    "### Dataset Overview\n",
    "There are 174,898 trips recorded with complete data in the dataset , these data divided to four dimensions ( trip time , start and end location , bike data and user data ).\n",
    "the data differ between numeric and categorical .\n"
   ]
  },
  {
   "cell_type": "markdown",
   "metadata": {
    "slideshow": {
     "slide_type": "slide"
    }
   },
   "source": [
    "#### What are  most 15 start & end stations that have high customers density ?"
   ]
  },
  {
   "cell_type": "code",
   "execution_count": 32,
   "metadata": {
    "slideshow": {
     "slide_type": "subslide"
    }
   },
   "outputs": [
    {
     "data": {
      "text/plain": [
       "Text(0.5, 1.0, 'End stations')"
      ]
     },
     "execution_count": 32,
     "metadata": {},
     "output_type": "execute_result"
    },
    {
     "data": {
      "image/png": "[encoded data removed]",
      "text/plain": [
       "<Figure size 720x720 with 2 Axes>"
      ]
     },
     "metadata": {
      "needs_background": "light"
     },
     "output_type": "display_data"
    }
   ],
   "source": [
    "## The most 15 start &end stations that have high customers density \n",
    "plt.figure(figsize = [10, 10])\n",
    "base_color = sb.color_palette()[0]\n",
    "\n",
    "plt.subplot (2,2,1)\n",
    "sb.countplot(data=df_15, x='start_station_id', color=base_color);\n",
    "plt.title('Start stations')\n",
    "\n",
    "plt.subplot (2,2,2)\n",
    "freq_b = df_15['end_station_id'].value_counts()\n",
    "gen_order_b = freq_b.index\n",
    "sb.countplot(data=df_15, x='end_station_id', color=base_color);\n",
    "plt.title('End stations')"
   ]
  },
  {
   "cell_type": "markdown",
   "metadata": {
    "slideshow": {
     "slide_type": "slide"
    }
   },
   "source": [
    "#### What are customers characteristics ?"
   ]
  },
  {
   "cell_type": "code",
   "execution_count": 31,
   "metadata": {
    "slideshow": {
     "slide_type": "subslide"
    }
   },
   "outputs": [
    {
     "data": {
      "image/png": "[encoded data removed]",
      "text/plain": [
       "<Figure size 720x720 with 2 Axes>"
      ]
     },
     "metadata": {
      "needs_background": "light"
     },
     "output_type": "display_data"
    },
    {
     "data": {
      "image/png": "[encoded data removed]",
      "text/plain": [
       "<Figure size 720x360 with 1 Axes>"
      ]
     },
     "metadata": {
      "needs_background": "light"
     },
     "output_type": "display_data"
    }
   ],
   "source": [
    "## The user related data (user_type ,member_gender ) for most 15 start and end stations that have high density.\n",
    "plt.figure(figsize = [10, 10])\n",
    "base_color = sb.color_palette()[0]\n",
    "\n",
    "\n",
    "\n",
    "plt.subplot (2,2,1)\n",
    "freq_e = df_15['user_type'].value_counts()\n",
    "gen_order_e = freq_e.index  \n",
    "sb.countplot(data=df_15, x='user_type', color=base_color, order=gen_order_e) ;\n",
    "plt.xticks(rotation=90)\n",
    "plt.title('User type')\n",
    "\n",
    "\n",
    "plt.subplot (2,2,2)\n",
    "freq_f = df_15['member_gender'].value_counts()\n",
    "gen_order_f = freq_f.index  \n",
    "sb.countplot(data=df_15, x='member_gender', color=base_color, order=gen_order_f);\n",
    "plt.xticks(rotation=90)\n",
    "plt.title('User gender')\n",
    "\n",
    "log_binsize = 0.025\n",
    "bins = 10 ** np.arange(0.5, np.log10(df_15['user_age'].max())+log_binsize, log_binsize)\n",
    "\n",
    "plt.figure(figsize=[10, 5])\n",
    "plt.hist(data = df_15, x = 'user_age', bins = bins)\n",
    "plt.xscale('log')\n",
    "plt.xticks([7.5 ,10, 15, 25, 40, 75 , 115 ], [7.5 ,10, 15, 25, 40, 75 , 115 ])\n",
    "plt.xlim((7.5,120))\n",
    "plt.xlabel('user_age')\n",
    "plt.ylabel('count')\n",
    "plt.title('User age')\n",
    "plt.show()\n"
   ]
  },
  {
   "cell_type": "markdown",
   "metadata": {
    "slideshow": {
     "slide_type": "slide"
    }
   },
   "source": [
    "#### Customers characteristics \n",
    "The users characterisitics in common even in all locations or the most density ( Type : Subscribers , Gender : Male , Age : from 20 to 40 )"
   ]
  },
  {
   "cell_type": "markdown",
   "metadata": {
    "slideshow": {
     "slide_type": "slide"
    }
   },
   "source": [
    "### What is the common trip duration ?"
   ]
  },
  {
   "cell_type": "code",
   "execution_count": 22,
   "metadata": {
    "slideshow": {
     "slide_type": "subslide"
    }
   },
   "outputs": [
    {
     "data": {
      "image/png": "[encoded data removed]",
      "text/plain": [
       "<Figure size 720x360 with 1 Axes>"
      ]
     },
     "metadata": {
      "needs_background": "light"
     },
     "output_type": "display_data"
    }
   ],
   "source": [
    "log_binsize = 0.25\n",
    "bins = 10 ** np.arange(0, np.log10(df_15['duration_hour'].max())+log_binsize, log_binsize)\n",
    "\n",
    "\n",
    "plt.figure(figsize=[10, 5])\n",
    "plt.hist(data = df_15, x = 'duration_hour', bins = bins)\n",
    "plt.xscale('log')\n",
    "plt.xticks([0.75 ,1.5,3,6,12,24], [0.75 ,1.5,3,6,12,24])\n",
    "plt.xlabel('duration_hour')\n",
    "plt.ylabel('count')\n",
    "plt.title('Trip duration /h _ Count')\n",
    "plt.show()"
   ]
  },
  {
   "cell_type": "markdown",
   "metadata": {
    "slideshow": {
     "slide_type": "slide"
    }
   },
   "source": [
    "### Conclusion\n",
    "As conclusion our Target customer characterisitics  ( Type : Subscribers then customers , Gender : Male then female , Age : from 20 to 40 ) and the common duration they use the bikes are from 1 to 2 hours then 2 to 5 hours."
   ]
  },
  {
   "cell_type": "markdown",
   "metadata": {
    "slideshow": {
     "slide_type": "slide"
    }
   },
   "source": [
    "<a id='Bivariate'></a>\n",
    "\n",
    "## let's dig deep in the common customers characteristics and trip duration for each station even start or end to check if there is any variance."
   ]
  },
  {
   "cell_type": "markdown",
   "metadata": {
    "slideshow": {
     "slide_type": "slide"
    }
   },
   "source": [
    "###  What are user type and age for start and end locations ?"
   ]
  },
  {
   "cell_type": "code",
   "execution_count": 29,
   "metadata": {
    "slideshow": {
     "slide_type": "subslide"
    }
   },
   "outputs": [
    {
     "data": {
      "text/plain": [
       "Text(0.5, 1.0, 'user type and age for end locations')"
      ]
     },
     "execution_count": 29,
     "metadata": {},
     "output_type": "execute_result"
    },
    {
     "data": {
      "image/png": "[encoded data removed]",
      "text/plain": [
       "<Figure size 720x720 with 2 Axes>"
      ]
     },
     "metadata": {
      "needs_background": "light"
     },
     "output_type": "display_data"
    }
   ],
   "source": [
    "## Sub Plot For start and end locations (user type and age)\n",
    "plt.figure(figsize = [10, 10])\n",
    "\n",
    "\n",
    "plt.subplot (2,2,1)\n",
    "freq_k = df_15['start_station_id'].value_counts()\n",
    "gen_order_k = freq_k.index \n",
    "sb.pointplot(data = df_15, x = 'start_station_id', y ='user_age', hue = 'user_type',dodge = 0.3, linestyles = \"\" , order = gen_order_k)\n",
    "plt.title('user type and age for start locations')\n",
    "\n",
    "plt.subplot (2,2,2)\n",
    "freq_l = df_15['end_station_id'].value_counts()\n",
    "gen_order_l = freq_l.index \n",
    "sb.pointplot(data = df_15, x = 'end_station_id', y ='user_age', hue = 'user_type',dodge = 0.3, linestyles = \"\" ,order = gen_order_l)\n",
    "plt.title('user type and age for end locations')"
   ]
  },
  {
   "cell_type": "markdown",
   "metadata": {
    "slideshow": {
     "slide_type": "slide"
    }
   },
   "source": [
    "\n",
    "###  What are user gender and age for start and end locations ?"
   ]
  },
  {
   "cell_type": "code",
   "execution_count": 30,
   "metadata": {
    "slideshow": {
     "slide_type": "subslide"
    }
   },
   "outputs": [
    {
     "data": {
      "text/plain": [
       "Text(0.5, 1.0, 'user gender and age for end locations')"
      ]
     },
     "execution_count": 30,
     "metadata": {},
     "output_type": "execute_result"
    },
    {
     "data": {
      "image/png": "[encoded data removed]",
      "text/plain": [
       "<Figure size 720x720 with 2 Axes>"
      ]
     },
     "metadata": {
      "needs_background": "light"
     },
     "output_type": "display_data"
    }
   ],
   "source": [
    "## Sub Plot For start and end locations (User gender and age)\n",
    "plt.figure(figsize = [10, 10])\n",
    "\n",
    "\n",
    "plt.subplot (2,2,1)\n",
    "freq_k = df_15['start_station_id'].value_counts()\n",
    "gen_order_k = freq_k.index \n",
    "sb.pointplot(data = df_15, x = 'start_station_id', y ='user_age', hue = 'member_gender',dodge = 0.3, linestyles = \"\" , order = gen_order_k)\n",
    "plt.title('user gender and age for start locations')\n",
    "\n",
    "plt.subplot (2,2,2)\n",
    "freq_l = df_15['end_station_id'].value_counts()\n",
    "gen_order_l = freq_l.index \n",
    "sb.pointplot(data = df_15, x = 'end_station_id', y ='user_age', hue = 'member_gender',dodge = 0.3, linestyles = \"\" ,order = gen_order_l)\n",
    "plt.title('user gender and age for end locations')"
   ]
  },
  {
   "cell_type": "markdown",
   "metadata": {
    "slideshow": {
     "slide_type": "slide"
    }
   },
   "source": [
    "### To Conclude :\n",
    " \n",
    "The targeted customers characteristics :    \n",
    "\n",
    "1- Gender : Male   .    \n",
    "2- Type : Subscriber  .   \n",
    "3- Age : 20 to 40 .    \n",
    "4-  Most common trip hour from 1 to 2 hours .     \n",
    "\n",
    "we checked and find these conclusion throw our journey thus we could get use of these by :\n",
    "* For low density customers stations we can use these targeted customers in marketing and offers which will increase the revenue of the company.    \n",
    "* For high density customers stations if there still work capicity available we can increase revenues by 2 ways :   \n",
    "1- Offers for females between 20 to 40 years even for subscriber or customer type.   \n",
    "2- More engagement for targeted customer with above characteristics ."
   ]
  },
  {
   "cell_type": "markdown",
   "metadata": {
    "slideshow": {
     "slide_type": "slide"
    }
   },
   "source": [
    "## Tahnks :)"
   ]
  }
 ],
 "metadata": {
  "celltoolbar": "Slideshow",
  "kernelspec": {
   "display_name": "Python 3",
   "language": "python",
   "name": "python3"
  },
  "language_info": {
   "codemirror_mode": {
    "name": "ipython",
    "version": 3
   },
   "file_extension": ".py",
   "mimetype": "text/x-python",
   "name": "python",
   "nbconvert_exporter": "python",
   "pygments_lexer": "ipython3",
   "version": "3.8.5"
  }
 },
 "nbformat": 4,
 "nbformat_minor": 4
}
