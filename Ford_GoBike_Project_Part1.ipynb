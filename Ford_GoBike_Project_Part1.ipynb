{
 "cells": [
  {
   "cell_type": "markdown",
   "metadata": {},
   "source": [
    "# Project: Ford GoBike Trip\n",
    "\n",
    "## Table of Contents\n",
    "\n",
    "<ul>\n",
    "<li><a href=\"#wrangling\"> 1- Preliminary Wrangling</a></li>\n",
    "    <li><a href=\"#Assess\">     1.1 - Assess</a></li>\n",
    "    <li><a href=\"#clean\">     1.2 - Clean</a></li>\n",
    "<li><a href=\"#Univariate\">Univariate Exploration</a></li>\n",
    "<li><a href=\"#Bivariate\">Bivariate Exploration</a></li>\n",
    "<li><a href=\"#Multivariate\">Multivariate Exploration</a></li>\n",
    "<li><a href=\"#Overall Observation\">Overall Observation</a></li>\n",
    "</ul>"
   ]
  },
  {
   "cell_type": "markdown",
   "metadata": {},
   "source": [
    "<a id='wrangling'></a>\n",
    "## 1- Preliminary Wrangling"
   ]
  },
  {
   "cell_type": "markdown",
   "metadata": {},
   "source": [
    "This document explores a dataset containing bike trips and their data for approximately 174,952 trips."
   ]
  },
  {
   "cell_type": "code",
   "execution_count": 1,
   "metadata": {},
   "outputs": [],
   "source": [
    "# import all packages and set plots to be embedded inline\n",
    "import numpy as np\n",
    "import pandas as pd\n",
    "import matplotlib.pyplot as plt\n",
    "import seaborn as sb\n",
    "\n",
    "%matplotlib inline"
   ]
  },
  {
   "cell_type": "code",
   "execution_count": 2,
   "metadata": {},
   "outputs": [],
   "source": [
    "# load in the dataset into a pandas dataframe, print statistics\n",
    "df_main = pd.read_csv('201902-fordgobike-tripdata.csv')"
   ]
  },
  {
   "cell_type": "markdown",
   "metadata": {},
   "source": [
    "<a id='Assess'></a>\n",
    "### 1.1 - Assess \n",
    "#### Physical and programatic Assess "
   ]
  },
  {
   "cell_type": "code",
   "execution_count": 3,
   "metadata": {},
   "outputs": [
    {
     "name": "stdout",
     "output_type": "stream",
     "text": [
      "(183412, 16)\n",
      "duration_sec                 int64\n",
      "start_time                  object\n",
      "end_time                    object\n",
      "start_station_id           float64\n",
      "start_station_name          object\n",
      "start_station_latitude     float64\n",
      "start_station_longitude    float64\n",
      "end_station_id             float64\n",
      "end_station_name            object\n",
      "end_station_latitude       float64\n",
      "end_station_longitude      float64\n",
      "bike_id                      int64\n",
      "user_type                   object\n",
      "member_birth_year          float64\n",
      "member_gender               object\n",
      "bike_share_for_all_trip     object\n",
      "dtype: object\n",
      "<class 'pandas.core.frame.DataFrame'>\n",
      "RangeIndex: 183412 entries, 0 to 183411\n",
      "Data columns (total 16 columns):\n",
      " #   Column                   Non-Null Count   Dtype  \n",
      "---  ------                   --------------   -----  \n",
      " 0   duration_sec             183412 non-null  int64  \n",
      " 1   start_time               183412 non-null  object \n",
      " 2   end_time                 183412 non-null  object \n",
      " 3   start_station_id         183215 non-null  float64\n",
      " 4   start_station_name       183215 non-null  object \n",
      " 5   start_station_latitude   183412 non-null  float64\n",
      " 6   start_station_longitude  183412 non-null  float64\n",
      " 7   end_station_id           183215 non-null  float64\n",
      " 8   end_station_name         183215 non-null  object \n",
      " 9   end_station_latitude     183412 non-null  float64\n",
      " 10  end_station_longitude    183412 non-null  float64\n",
      " 11  bike_id                  183412 non-null  int64  \n",
      " 12  user_type                183412 non-null  object \n",
      " 13  member_birth_year        175147 non-null  float64\n",
      " 14  member_gender            175147 non-null  object \n",
      " 15  bike_share_for_all_trip  183412 non-null  object \n",
      "dtypes: float64(7), int64(2), object(7)\n",
      "memory usage: 22.4+ MB\n",
      "None\n"
     ]
    }
   ],
   "source": [
    "# high-level overview of data shape and composition\n",
    "print(df_main.shape)\n",
    "print(df_main.dtypes)\n",
    "print(df_main.info())"
   ]
  },
  {
   "cell_type": "code",
   "execution_count": 4,
   "metadata": {},
   "outputs": [
    {
     "name": "stdout",
     "output_type": "stream",
     "text": [
      "   duration_sec                start_time                  end_time  \\\n",
      "0         52185  2019-02-28 17:32:10.1450  2019-03-01 08:01:55.9750   \n",
      "1         42521  2019-02-28 18:53:21.7890  2019-03-01 06:42:03.0560   \n",
      "2         61854  2019-02-28 12:13:13.2180  2019-03-01 05:24:08.1460   \n",
      "3         36490  2019-02-28 17:54:26.0100  2019-03-01 04:02:36.8420   \n",
      "4          1585  2019-02-28 23:54:18.5490  2019-03-01 00:20:44.0740   \n",
      "5          1793  2019-02-28 23:49:58.6320  2019-03-01 00:19:51.7600   \n",
      "6          1147  2019-02-28 23:55:35.1040  2019-03-01 00:14:42.5880   \n",
      "7          1615  2019-02-28 23:41:06.7660  2019-03-01 00:08:02.7560   \n",
      "8          1570  2019-02-28 23:41:48.7900  2019-03-01 00:07:59.7150   \n",
      "9          1049  2019-02-28 23:49:47.6990  2019-03-01 00:07:17.0250   \n",
      "\n",
      "   start_station_id                                start_station_name  \\\n",
      "0              21.0  Montgomery St BART Station (Market St at 2nd St)   \n",
      "1              23.0                     The Embarcadero at Steuart St   \n",
      "2              86.0                           Market St at Dolores St   \n",
      "3             375.0                           Grove St at Masonic Ave   \n",
      "4               7.0                               Frank H Ogawa Plaza   \n",
      "5              93.0                      4th St at Mission Bay Blvd S   \n",
      "6             300.0                              Palm St at Willow St   \n",
      "7              10.0                        Washington St at Kearny St   \n",
      "8              10.0                        Washington St at Kearny St   \n",
      "9              19.0                              Post St at Kearny St   \n",
      "\n",
      "   start_station_latitude  start_station_longitude  end_station_id  \\\n",
      "0               37.789625              -122.400811            13.0   \n",
      "1               37.791464              -122.391034            81.0   \n",
      "2               37.769305              -122.426826             3.0   \n",
      "3               37.774836              -122.446546            70.0   \n",
      "4               37.804562              -122.271738           222.0   \n",
      "5               37.770407              -122.391198           323.0   \n",
      "6               37.317298              -121.884995           312.0   \n",
      "7               37.795393              -122.404770           127.0   \n",
      "8               37.795393              -122.404770           127.0   \n",
      "9               37.788975              -122.403452           121.0   \n",
      "\n",
      "                               end_station_name  end_station_latitude  \\\n",
      "0                Commercial St at Montgomery St             37.794231   \n",
      "1                            Berry St at 4th St             37.775880   \n",
      "2  Powell St BART Station (Market St at 4th St)             37.786375   \n",
      "3                        Central Ave at Fell St             37.773311   \n",
      "4                         10th Ave at E 15th St             37.792714   \n",
      "5                            Broadway at Kearny             37.798014   \n",
      "6                      San Jose Diridon Station             37.329732   \n",
      "7                        Valencia St at 21st St             37.756708   \n",
      "8                        Valencia St at 21st St             37.756708   \n",
      "9                            Mission Playground             37.759210   \n",
      "\n",
      "   end_station_longitude  bike_id   user_type  member_birth_year  \\\n",
      "0            -122.402923     4902    Customer             1984.0   \n",
      "1            -122.393170     2535    Customer                NaN   \n",
      "2            -122.404904     5905    Customer             1972.0   \n",
      "3            -122.444293     6638  Subscriber             1989.0   \n",
      "4            -122.248780     4898  Subscriber             1974.0   \n",
      "5            -122.405950     5200  Subscriber             1959.0   \n",
      "6            -121.901782     3803  Subscriber             1983.0   \n",
      "7            -122.421025     6329  Subscriber             1989.0   \n",
      "8            -122.421025     6548  Subscriber             1988.0   \n",
      "9            -122.421339     6488  Subscriber             1992.0   \n",
      "\n",
      "  member_gender bike_share_for_all_trip  \n",
      "0          Male                      No  \n",
      "1           NaN                      No  \n",
      "2          Male                      No  \n",
      "3         Other                      No  \n",
      "4          Male                     Yes  \n",
      "5          Male                      No  \n",
      "6        Female                      No  \n",
      "7          Male                      No  \n",
      "8         Other                      No  \n",
      "9          Male                      No  \n"
     ]
    }
   ],
   "source": [
    "print(df_main.head(10))"
   ]
  },
  {
   "cell_type": "code",
   "execution_count": 5,
   "metadata": {},
   "outputs": [
    {
     "name": "stdout",
     "output_type": "stream",
     "text": [
      "['Customer' 'Subscriber']\n",
      "['Male' nan 'Other' 'Female']\n",
      "['No' 'Yes']\n"
     ]
    }
   ],
   "source": [
    "## Show unique data of categorical columns \n",
    "print(df_main.user_type.unique())\n",
    "print(df_main.member_gender.unique())\n",
    "print(df_main.bike_share_for_all_trip.unique())"
   ]
  },
  {
   "cell_type": "code",
   "execution_count": 6,
   "metadata": {},
   "outputs": [
    {
     "name": "stdout",
     "output_type": "stream",
     "text": [
      "['Montgomery St BART Station (Market St at 2nd St)'\n",
      " 'The Embarcadero at Steuart St' 'Market St at Dolores St'\n",
      " 'Grove St at Masonic Ave' 'Frank H Ogawa Plaza'\n",
      " '4th St at Mission Bay Blvd S' 'Palm St at Willow St'\n",
      " 'Washington St at Kearny St' 'Post St at Kearny St' 'Jones St at Post St'\n",
      " 'Civic Center/UN Plaza BART Station (Market St at McAllister St)'\n",
      " 'Valencia St at 21st St' 'Channing Way at Shattuck Ave'\n",
      " 'Bancroft Way at College Ave' 'Howard St at Mary St'\n",
      " '22nd St at Dolores St' 'Laguna St at Hayes St' '5th St at Folsom'\n",
      " 'Telegraph Ave at 23rd St' 'Page St at Scott St'\n",
      " 'Lake Merritt BART Station' 'West St at 40th St'\n",
      " 'The Embarcadero at Sansome St' 'Folsom St at 9th St'\n",
      " 'University Ave at Oxford St' 'MLK Jr Way at University Ave'\n",
      " 'The Embarcadero at Bryant St' '17th St at Valencia St'\n",
      " 'Valencia St at 16th St' 'Valencia St at 22nd St' 'Franklin Square'\n",
      " 'San Pablo Ave at MLK Jr Way' '19th St at Mission St'\n",
      " 'Market St at 10th St' 'Folsom St at 13th St'\n",
      " 'San Francisco Ferry Building (Harry Bridges Plaza)' '4th St at 16th St'\n",
      " 'Beale St at Harrison St' 'Broadway at Battery St'\n",
      " 'Cesar Chavez St at Dolores St' 'San Fernando St at 4th St'\n",
      " 'Grove St at Divisadero' 'Sanchez St at 17th St'\n",
      " 'Harmon St at Adeline St' 'Mission Playground' 'Davis St at Jackson St'\n",
      " 'Haste St at Telegraph Ave' 'Howard St at 8th St' 'Folsom St at 3rd St'\n",
      " 'Father Alfred E Boeddeker Park' 'Commercial St at Montgomery St'\n",
      " 'Hubbell St at 16th St'\n",
      " 'San Francisco Public Library (Grove St at Hyde St)'\n",
      " 'Bancroft Way at Telegraph Ave' '19th Street BART Station'\n",
      " '18th St at Noe St' 'Hyde St at Post St' '24th St at Market St'\n",
      " 'Vine St at Shattuck Ave'\n",
      " 'San Francisco Caltrain (Townsend St at 4th St)'\n",
      " 'Valencia St at Clinton Park' 'Union Square (Powell St at Post St)'\n",
      " 'Broderick St at Oak St'\n",
      " 'San Francisco Caltrain Station 2  (Townsend St at 4th St)'\n",
      " 'North Berkeley BART Station' 'Downtown Berkeley BART'\n",
      " 'Fell St at Stanyan St' 'San Salvador St at 9th St'\n",
      " 'Marston Campbell Park' 'Oregon St at Adeline St' '11th St at Natoma St'\n",
      " 'Harrison St at 20th St' 'Haste St at College Ave'\n",
      " '24th St at Bartlett St' 'Sanchez St at 15th St'\n",
      " 'Telegraph Ave at 19th St' 'Powell St BART Station (Market St at 5th St)'\n",
      " 'Jersey St at Castro St' 'Pierce St at Haight St'\n",
      " 'MacArthur BART Station' 'El Embarcadero at Grand Ave'\n",
      " '23rd St at San Bruno Ave' 'Golden Gate Ave at Hyde St'\n",
      " 'S Van Ness Ave at Market St' 'Jackson Playground'\n",
      " 'San Fernando St at 7th St' 'West St at University Ave'\n",
      " 'Myrtle St at Polk St' 'Woolsey St at Sacramento St'\n",
      " 'Townsend St at 7th St' 'Harrison St at 17th St'\n",
      " 'West Oakland BART Station' 'Cyril Magnin St at Ellis St'\n",
      " 'Fulton St at Bancroft Way' '14th St at Mission St' 'San Pedro Square'\n",
      " 'Market St at Franklin St' 'Folsom St at 19th St'\n",
      " 'College Ave at Taft Ave' 'Rhode Island St at 17th St'\n",
      " 'Shattuck Ave at Hearst Ave' 'The Embarcadero at Vallejo St'\n",
      " 'Webster St at Grove St' 'Raymond Kimbell Playground'\n",
      " 'Victoria Manalo Draves Park' '20th St at Bryant St'\n",
      " 'S Park St at 3rd St' 'Lakeshore Ave at Trestle Glen Rd'\n",
      " 'Channing Way at San Pablo Ave' 'Mission Dolores Park'\n",
      " 'Lombard St at Columbus Ave' '17th St at Dolores St' 'Precita Park'\n",
      " 'Central Ave at Fell St' '4th St at Harrison St' 'Horton St at 40th St'\n",
      " 'Golden Gate Ave at Franklin St'\n",
      " 'Embarcadero BART Station (Beale St at Market St)'\n",
      " '9th St at San Fernando St' '3rd St at Townsend St'\n",
      " 'McCoppin St at Valencia St' '13th St at Franklin St'\n",
      " 'Mission Bay Kids Park' 'Potrero Ave and Mariposa St'\n",
      " 'Emeryville Public Market' 'Union St at 10th St' 'Jackson St at 11th St'\n",
      " 'Broadway at Kearny' 'Paseo De San Antonio at 2nd St'\n",
      " 'Valencia St at Cesar Chavez St' 'Rockridge BART Station'\n",
      " '8th St at Brannan St' 'College Ave at Alcatraz Ave'\n",
      " '16th St Mission BART Station 2' 'San Jose Diridon Station'\n",
      " 'Masonic Ave at Turk St'\n",
      " '17th & Folsom Street Park (17th St at Folsom St)'\n",
      " 'Grand Ave at Webster St' '7th St at Brannan St'\n",
      " 'Steuart St at Market St' 'Scott St at Golden Gate Ave'\n",
      " 'Parker St at Fulton St' 'Berkeley Civic Center' 'Clay St at Battery St'\n",
      " '11th St at Bryant St' 'Powell St BART Station (Market St at 4th St)'\n",
      " 'Doyle St at 59th St' '34th St at Telegraph Ave' 'Esprit Park'\n",
      " 'Emeryville Town Hall' 'Division St at Potrero Ave' 'Irwin St at 8th St'\n",
      " 'Pierce Ave at Market St' 'Howard St at Beale St'\n",
      " 'Washington St at 8th St' 'Snow Park' 'Dolores St at 15th St'\n",
      " 'Hearst Ave at Euclid Ave' 'Telegraph Ave at Ashby Ave'\n",
      " '8th St at Ringold St' '14th St at Mandela Pkwy'\n",
      " 'Morrison Ave at Julian St' 'Church St at Duboce Ave'\n",
      " 'Townsend St at 5th St' 'Valencia St at 24th St' '16th St at Prosper St'\n",
      " '5th St at Virginia St' \"Webster St at O'Farrell St\"\n",
      " 'Shattuck Ave at Telegraph Ave' 'Jackson St at 5th St'\n",
      " 'Berry St at 4th St' '2nd St at Townsend St'\n",
      " 'Telegraph Ave at Carleton St' 'Ellsworth St at Russell St'\n",
      " 'Adeline St at 40th St' 'Bay Pl at Vernon St' 'Russell St at College Ave'\n",
      " '22nd St Caltrain Station' 'Folsom St at 15th St' nan\n",
      " 'Ninth St at Heinz Ave' '15th St at Potrero Ave'\n",
      " '23rd St at Tennessee St' 'McAllister St at Baker St'\n",
      " 'Bryant St at 2nd St' 'Mississippi St at 17th St' 'Ryland Park'\n",
      " 'Fountain Alley at S 2nd St' 'Turk St at Fillmore St'\n",
      " 'Ashby BART Station' 'Shattuck Ave at 51st St' 'Julian St at The Alameda'\n",
      " '20th St at Dolores St' 'Broadway at Coronado Ave'\n",
      " 'Grand Ave at Santa Clara Ave' 'Eureka Valley Recreation Center'\n",
      " 'Parker Ave at McAllister St' 'Berry St at King St'\n",
      " 'Salesforce Transit Center (Natoma St at 2nd St)' 'San Antonio Park'\n",
      " 'Lakeside Dr at 14th St' '16th St Mission BART'\n",
      " 'Stanford Ave at Hollis St' 'Broadway at 40th St'\n",
      " 'Mechanics Monument Plaza (Market St at Bush St)' 'Madison St at 17th St'\n",
      " 'Grand Ave at Perkins St' 'Garfield Square (25th St at Harrison St)'\n",
      " '53rd St at Hollis St' '2nd St at Julian St'\n",
      " 'Telegraph Ave at Alcatraz Ave'\n",
      " 'San Francisco City Hall (Polk St at Grove St)' '5th St at Brannan St'\n",
      " '10th St at Fallon St'\n",
      " 'Yerba Buena Center for the Arts (Howard St at 3rd St)'\n",
      " '30th St at San Jose Ave' '29th St at Tiffany Ave' 'Webster St at 2nd St'\n",
      " 'Koshland Park' 'Jersey St at Church St' 'Santa Clara St at 7th St'\n",
      " 'Telegraph Ave at 58th St' 'Fruitvale BART Station'\n",
      " 'Addison St at Fourth St' 'Leavenworth St at Broadway'\n",
      " 'Telegraph Ave at 27th St' 'Potrero del Sol Park (25th St at Utah St)'\n",
      " 'Spear St at Folsom St' 'College Ave at Harwood Ave'\n",
      " \"O'Farrell St at Divisadero St\" '1st St at Folsom St'\n",
      " 'Bryant St at 15th St' 'Golden Gate Ave at Polk St'\n",
      " '5th St at San Salvador St' '29th St at Church St'\n",
      " 'Alamo Square (Steiner St at Fulton St)' 'Autumn Parkway at Coleman Ave'\n",
      " 'Fulton St at Ashby Ave' 'Howard St at 2nd St' '19th St at Florida St'\n",
      " 'Market St at 45th St' 'Derby St at College Ave'\n",
      " 'Market St at Brockhurst St' 'California St at University Ave'\n",
      " 'MLK Jr Way at 14th St' 'Market St at 40th St' 'Julian St at 6th St'\n",
      " 'Cahill Park' 'San Jose City Hall' 'Virginia St at Shattuck Ave'\n",
      " 'Jack London Square' 'Milvia St at Derby St' 'Webster St at 19th St'\n",
      " '24th St at Chattanooga St' 'The Alameda at Bush St'\n",
      " '49th St at Telegraph Ave' 'Broadway at 30th St' 'Bryant St at 6th St'\n",
      " 'Empire St at 1st St' 'China Basin St at 3rd St'\n",
      " '47th St at San Pablo Ave' 'San Salvador St at 1st St'\n",
      " '45th St at Manila' 'San Carlos St at Market St'\n",
      " 'San Pablo Ave at 27th St' 'Market St at Park St' 'Franklin St at 9th St'\n",
      " 'Almaden Blvd at San Fernando St' 'Oak St at 1st St'\n",
      " 'William St at 10th St' 'Isabella St at San Pablo Ave' 'Guerrero Park'\n",
      " '10th St at University Ave' 'DeFremery Park' 'Fifth St at Delaware St'\n",
      " 'Williams Ave at 3rd St' '4th Ave at E 12th St (Temporary Location)'\n",
      " 'Shattuck Ave at 55th St' '59th St at Horton St' 'SAP Center'\n",
      " '37th St at West St' 'Almaden Blvd at Balbach St' '65th St at Hollis St'\n",
      " 'Santa Clara St at Almaden Blvd' 'Ninth St at Parker St' 'Bushrod Park'\n",
      " 'Empire St at 7th St' 'Mendell St at Fairfax Ave' '16th St Depot'\n",
      " 'Newhall St at 3rd St' 'George St at 1st St' 'Mission St at 1st St'\n",
      " 'Duboce Park' 'Locust St at Grant St' '32nd St at Adeline St'\n",
      " 'Mosswood Park' 'Delmas Ave and San Fernando St' 'Lane St at Revere Ave'\n",
      " '2nd Ave at E 18th St' 'San Carlos St at 11th St'\n",
      " 'Williams Ave at Apollo St' 'MacArthur Blvd at Telegraph Ave'\n",
      " 'Bestor Art Park' 'College Ave at Bryant Ave' 'Miles Ave at Cavour St'\n",
      " 'Saint James Park' '14th St at Filbert St'\n",
      " 'Foothill Blvd at Fruitvale Ave' 'Market St at 8th St'\n",
      " 'Backesto Park (Jackson St at 13th St)' '10th Ave at E 15th St'\n",
      " 'Alcatraz Ave at Shattuck Ave' '55th St at Telegraph Ave'\n",
      " 'Genoa St at 55th St' 'Dover St at 57th St' 'San Pablo Park'\n",
      " '6th Ave at E 12th St (Temporary Location)' 'Taylor St at 9th St'\n",
      " '27th St at MLK Jr Way' 'Foothill Blvd at Harrington Ave'\n",
      " '23rd Ave at Foothill Blvd' 'San Pedro St at Hedding St'\n",
      " '45th St at MLK Jr Way' '5th St at Taylor St' 'Foothill Blvd at 42nd Ave'\n",
      " 'Willow St at Vine St' '26th Ave at International Blvd'\n",
      " 'Farnam St at Fruitvale Ave' '21st Ave at International Blvd'\n",
      " '2nd St at Folsom St']\n"
     ]
    }
   ],
   "source": [
    "print(df_main.start_station_name.unique())"
   ]
  },
  {
   "cell_type": "code",
   "execution_count": 7,
   "metadata": {},
   "outputs": [
    {
     "name": "stdout",
     "output_type": "stream",
     "text": [
      "['Commercial St at Montgomery St' 'Berry St at 4th St'\n",
      " 'Powell St BART Station (Market St at 4th St)' 'Central Ave at Fell St'\n",
      " '10th Ave at E 15th St' 'Broadway at Kearny' 'San Jose Diridon Station'\n",
      " 'Valencia St at 21st St' 'Mission Playground'\n",
      " 'San Francisco Public Library (Grove St at Hyde St)'\n",
      " 'Bryant St at 2nd St' 'Shattuck Ave at Hearst Ave'\n",
      " 'Channing Way at Shattuck Ave' '8th St at Ringold St'\n",
      " 'Broderick St at Oak St' 'Potrero Ave and Mariposa St'\n",
      " 'Market St at Franklin St' 'Telegraph Ave at 23rd St'\n",
      " '17th St at Dolores St' '6th Ave at E 12th St (Temporary Location)'\n",
      " 'McAllister St at Baker St' 'Telegraph Ave at Carleton St'\n",
      " 'Genoa St at 55th St' 'Grand Ave at Perkins St'\n",
      " 'San Francisco Ferry Building (Harry Bridges Plaza)'\n",
      " 'Folsom St at 9th St' 'Channing Way at San Pablo Ave'\n",
      " '2nd St at Townsend St' 'Pierce St at Haight St'\n",
      " 'Potrero del Sol Park (25th St at Utah St)' 'Valencia St at 22nd St'\n",
      " 'Jackson Playground' 'Dolores St at 15th St' '29th St at Church St'\n",
      " '19th St at Mission St' 'Bay Pl at Vernon St' 'Post St at Kearny St'\n",
      " 'Yerba Buena Center for the Arts (Howard St at 3rd St)'\n",
      " '4th St at Mission Bay Blvd S' 'Father Alfred E Boeddeker Park'\n",
      " 'Market St at 10th St' '24th St at Chattanooga St'\n",
      " 'Pierce Ave at Market St' 'Fell St at Stanyan St'\n",
      " '17th St at Valencia St' 'San Pablo Ave at 27th St'\n",
      " 'Howard St at Mary St' 'Davis St at Jackson St'\n",
      " 'Victoria Manalo Draves Park' 'Jersey St at Church St'\n",
      " 'Haste St at Telegraph Ave' 'Eureka Valley Recreation Center'\n",
      " 'Washington St at Kearny St' 'Grove St at Divisadero'\n",
      " 'Parker St at Fulton St' 'El Embarcadero at Grand Ave'\n",
      " 'Lake Merritt BART Station' 'Hyde St at Post St' '24th St at Market St'\n",
      " '5th St at Brannan St' '24th St at Bartlett St' 'Townsend St at 5th St'\n",
      " 'Addison St at Fourth St' 'Broadway at Battery St'\n",
      " 'Market St at Dolores St' '5th St at Virginia St' 'Marston Campbell Park'\n",
      " 'University Ave at Oxford St' 'Valencia St at 24th St'\n",
      " 'Valencia St at Cesar Chavez St' 'Ryland Park' 'Precita Park'\n",
      " 'Derby St at College Ave' 'Jersey St at Castro St' '11th St at Natoma St'\n",
      " '45th St at MLK Jr Way' 'Valencia St at 16th St'\n",
      " 'San Francisco Caltrain Station 2  (Townsend St at 4th St)'\n",
      " 'Montgomery St BART Station (Market St at 2nd St)' '18th St at Noe St'\n",
      " '37th St at West St' 'Newhall St at 3rd St' 'Haste St at College Ave'\n",
      " 'Cyril Magnin St at Ellis St' 'Beale St at Harrison St'\n",
      " 'Fulton St at Bancroft Way' 'San Fernando St at 4th St'\n",
      " 'Garfield Square (25th St at Harrison St)' '29th St at Tiffany Ave'\n",
      " 'Bancroft Way at College Ave' 'Ashby BART Station' '11th St at Bryant St'\n",
      " '14th St at Mandela Pkwy' 'Howard St at 8th St'\n",
      " 'Leavenworth St at Broadway' 'Locust St at Grant St'\n",
      " 'Lombard St at Columbus Ave' 'Sanchez St at 17th St' '45th St at Manila'\n",
      " '23rd St at San Bruno Ave' 'Morrison Ave at Julian St'\n",
      " 'Sanchez St at 15th St' 'Koshland Park' 'Harrison St at 20th St'\n",
      " '2nd Ave at E 18th St' 'Steuart St at Market St'\n",
      " 'Church St at Duboce Ave' 'Page St at Scott St'\n",
      " 'Bancroft Way at Telegraph Ave' 'Mission Bay Kids Park'\n",
      " 'Folsom St at 3rd St' 'Valencia St at Clinton Park'\n",
      " 'Grand Ave at Santa Clara Ave' '19th Street BART Station'\n",
      " 'Folsom St at 19th St' 'West Oakland BART Station' 'S Park St at 3rd St'\n",
      " '5th St at Folsom' 'Embarcadero BART Station (Beale St at Market St)'\n",
      " 'Howard St at 2nd St' 'The Embarcadero at Sansome St'\n",
      " 'Backesto Park (Jackson St at 13th St)' 'Esprit Park'\n",
      " 'Myrtle St at Polk St' 'Franklin Square' 'Empire St at 7th St'\n",
      " 'Lakeside Dr at 14th St' 'Laguna St at Hayes St' '65th St at Hollis St'\n",
      " '4th St at 16th St' '49th St at Telegraph Ave'\n",
      " '16th St Mission BART Station 2' 'Lane St at Revere Ave'\n",
      " 'MLK Jr Way at University Ave' '2nd St at Julian St'\n",
      " 'Webster St at Grove St' 'Telegraph Ave at Ashby Ave'\n",
      " 'Bryant St at 6th St' '20th St at Dolores St'\n",
      " 'Powell St BART Station (Market St at 5th St)'\n",
      " 'San Francisco Caltrain (Townsend St at 4th St)' '8th St at Brannan St'\n",
      " 'Shattuck Ave at Telegraph Ave' 'Downtown Berkeley BART'\n",
      " 'North Berkeley BART Station' 'Turk St at Fillmore St'\n",
      " 'Woolsey St at Sacramento St' '4th St at Harrison St'\n",
      " 'The Embarcadero at Bryant St' \"O'Farrell St at Divisadero St\"\n",
      " 'Grove St at Masonic Ave' 'Hubbell St at 16th St'\n",
      " 'Civic Center/UN Plaza BART Station (Market St at McAllister St)'\n",
      " '3rd St at Townsend St' 'Fountain Alley at S 2nd St'\n",
      " 'China Basin St at 3rd St' '59th St at Horton St' 'Mission Dolores Park'\n",
      " 'San Carlos St at 11th St' 'Jackson St at 11th St'\n",
      " '22nd St Caltrain Station' 'Townsend St at 7th St' '7th St at Brannan St'\n",
      " 'Webster St at 2nd St' 'Ellsworth St at Russell St'\n",
      " \"Webster St at O'Farrell St\" 'Harmon St at Adeline St'\n",
      " '1st St at Folsom St' 'Vine St at Shattuck Ave'\n",
      " 'Stanford Ave at Hollis St' 'Jones St at Post St'\n",
      " 'West St at University Ave' 'Paseo De San Antonio at 2nd St'\n",
      " 'Duboce Park' 'The Embarcadero at Steuart St' 'Russell St at College Ave'\n",
      " 'Golden Gate Ave at Hyde St' 'Berkeley Civic Center'\n",
      " '47th St at San Pablo Ave' 'George St at 1st St' '53rd St at Hollis St'\n",
      " 'West St at 40th St' '15th St at Potrero Ave'\n",
      " 'Division St at Potrero Ave' 'San Pablo Ave at MLK Jr Way'\n",
      " 'Jackson St at 5th St' 'Union Square (Powell St at Post St)'\n",
      " '4th Ave at E 12th St (Temporary Location)' 'Bushrod Park'\n",
      " 'Rhode Island St at 17th St' 'Folsom St at 13th St'\n",
      " 'Virginia St at Shattuck Ave' '16th St Mission BART'\n",
      " 'Lakeshore Ave at Trestle Glen Rd' 'Masonic Ave at Turk St' nan\n",
      " 'Harrison St at 17th St' 'McCoppin St at Valencia St'\n",
      " '17th & Folsom Street Park (17th St at Folsom St)' '10th St at Fallon St'\n",
      " '34th St at Telegraph Ave' 'The Alameda at Bush St'\n",
      " '9th St at San Fernando St' '20th St at Bryant St'\n",
      " 'Howard St at Beale St' 'Cesar Chavez St at Dolores St'\n",
      " '55th St at Telegraph Ave' 'S Van Ness Ave at Market St'\n",
      " 'Scott St at Golden Gate Ave' '14th St at Mission St'\n",
      " 'Mississippi St at 17th St' 'Alamo Square (Steiner St at Fulton St)'\n",
      " 'Shattuck Ave at 51st St' 'MacArthur BART Station'\n",
      " 'Madison St at 17th St' 'Horton St at 40th St' 'Hearst Ave at Euclid Ave'\n",
      " 'Folsom St at 15th St' '19th St at Florida St'\n",
      " 'Alcatraz Ave at Shattuck Ave' 'San Fernando St at 7th St'\n",
      " 'MLK Jr Way at 14th St' 'Milvia St at Derby St'\n",
      " 'College Ave at Alcatraz Ave' 'Washington St at 8th St' 'Guerrero Park'\n",
      " 'Oregon St at Adeline St' 'Parker Ave at McAllister St'\n",
      " '23rd St at Tennessee St' 'Clay St at Battery St' 'Broadway at 40th St'\n",
      " 'Salesforce Transit Center (Natoma St at 2nd St)'\n",
      " 'Telegraph Ave at 19th St' 'Emeryville Public Market'\n",
      " 'Golden Gate Ave at Polk St' 'Telegraph Ave at 58th St'\n",
      " 'Foothill Blvd at Harrington Ave' 'The Embarcadero at Vallejo St'\n",
      " '16th St at Prosper St' 'Berry St at King St' 'Broadway at Coronado Ave'\n",
      " 'Market St at 45th St' 'Mechanics Monument Plaza (Market St at Bush St)'\n",
      " 'Dover St at 57th St' 'Miles Ave at Cavour St' 'Rockridge BART Station'\n",
      " 'Fifth St at Delaware St' 'College Ave at Harwood Ave'\n",
      " 'California St at University Ave' 'Union St at 10th St'\n",
      " '5th St at San Salvador St' 'Mosswood Park' 'William St at 10th St'\n",
      " '5th St at Taylor St' 'Julian St at The Alameda' 'Irwin St at 8th St'\n",
      " 'Market St at Brockhurst St' 'Adeline St at 40th St'\n",
      " '30th St at San Jose Ave' 'Spear St at Folsom St' '27th St at MLK Jr Way'\n",
      " 'San Francisco City Hall (Polk St at Grove St)' '22nd St at Dolores St'\n",
      " 'Frank H Ogawa Plaza' 'Shattuck Ave at 55th St'\n",
      " 'Golden Gate Ave at Franklin St' 'Broadway at 30th St'\n",
      " 'Bryant St at 15th St' 'Grand Ave at Webster St' 'Julian St at 6th St'\n",
      " 'Santa Clara St at 7th St' '14th St at Filbert St' 'Emeryville Town Hall'\n",
      " 'Cahill Park' 'Raymond Kimbell Playground'\n",
      " 'Autumn Parkway at Coleman Ave' 'Isabella St at San Pablo Ave'\n",
      " 'San Salvador St at 9th St' 'Telegraph Ave at 27th St'\n",
      " '13th St at Franklin St' 'Doyle St at 59th St' 'Jack London Square'\n",
      " 'SAP Center' 'Telegraph Ave at Alcatraz Ave' 'San Carlos St at Market St'\n",
      " '10th St at University Ave' 'Ninth St at Heinz Ave'\n",
      " 'Market St at 40th St' '23rd Ave at Foothill Blvd' 'Bestor Art Park'\n",
      " '32nd St at Adeline St' 'DeFremery Park' 'San Pedro Square'\n",
      " 'San Salvador St at 1st St' 'Fulton St at Ashby Ave'\n",
      " 'Ninth St at Parker St' 'Taylor St at 9th St' 'Empire St at 1st St'\n",
      " 'Franklin St at 9th St' 'Webster St at 19th St' 'San Pablo Park'\n",
      " 'College Ave at Taft Ave' 'Market St at 8th St' 'Snow Park'\n",
      " 'San Antonio Park' 'San Jose City Hall' 'Delmas Ave and San Fernando St'\n",
      " 'Mendell St at Fairfax Ave' 'Santa Clara St at Almaden Blvd'\n",
      " 'College Ave at Bryant Ave' 'Foothill Blvd at Fruitvale Ave'\n",
      " 'Palm St at Willow St' 'Saint James Park' 'Williams Ave at 3rd St'\n",
      " 'Market St at Park St' 'Almaden Blvd at Balbach St'\n",
      " 'Almaden Blvd at San Fernando St' 'Foothill Blvd at 42nd Ave'\n",
      " 'Fruitvale BART Station' 'MacArthur Blvd at Telegraph Ave'\n",
      " 'Williams Ave at Apollo St' 'Mission St at 1st St'\n",
      " 'San Pedro St at Hedding St' 'Oak St at 1st St'\n",
      " 'Farnam St at Fruitvale Ave' '26th Ave at International Blvd'\n",
      " '16th St Depot' '21st Ave at International Blvd' 'Willow St at Vine St'\n",
      " '2nd St at Folsom St']\n"
     ]
    }
   ],
   "source": [
    "print(df_main.end_station_name.unique())"
   ]
  },
  {
   "cell_type": "code",
   "execution_count": 8,
   "metadata": {},
   "outputs": [
    {
     "data": {
      "text/html": [
       "<div>\n",
       "<style scoped>\n",
       "    .dataframe tbody tr th:only-of-type {\n",
       "        vertical-align: middle;\n",
       "    }\n",
       "\n",
       "    .dataframe tbody tr th {\n",
       "        vertical-align: top;\n",
       "    }\n",
       "\n",
       "    .dataframe thead th {\n",
       "        text-align: right;\n",
       "    }\n",
       "</style>\n",
       "<table border=\"1\" class=\"dataframe\">\n",
       "  <thead>\n",
       "    <tr style=\"text-align: right;\">\n",
       "      <th></th>\n",
       "      <th>duration_sec</th>\n",
       "      <th>start_time</th>\n",
       "      <th>end_time</th>\n",
       "      <th>start_station_id</th>\n",
       "      <th>start_station_name</th>\n",
       "      <th>start_station_latitude</th>\n",
       "      <th>start_station_longitude</th>\n",
       "      <th>end_station_id</th>\n",
       "      <th>end_station_name</th>\n",
       "      <th>end_station_latitude</th>\n",
       "      <th>end_station_longitude</th>\n",
       "      <th>bike_id</th>\n",
       "      <th>user_type</th>\n",
       "      <th>member_birth_year</th>\n",
       "      <th>member_gender</th>\n",
       "      <th>bike_share_for_all_trip</th>\n",
       "    </tr>\n",
       "  </thead>\n",
       "  <tbody>\n",
       "    <tr>\n",
       "      <th>3</th>\n",
       "      <td>36490</td>\n",
       "      <td>2019-02-28 17:54:26.0100</td>\n",
       "      <td>2019-03-01 04:02:36.8420</td>\n",
       "      <td>375.0</td>\n",
       "      <td>Grove St at Masonic Ave</td>\n",
       "      <td>37.774836</td>\n",
       "      <td>-122.446546</td>\n",
       "      <td>70.0</td>\n",
       "      <td>Central Ave at Fell St</td>\n",
       "      <td>37.773311</td>\n",
       "      <td>-122.444293</td>\n",
       "      <td>6638</td>\n",
       "      <td>Subscriber</td>\n",
       "      <td>1989.0</td>\n",
       "      <td>Other</td>\n",
       "      <td>No</td>\n",
       "    </tr>\n",
       "    <tr>\n",
       "      <th>8</th>\n",
       "      <td>1570</td>\n",
       "      <td>2019-02-28 23:41:48.7900</td>\n",
       "      <td>2019-03-01 00:07:59.7150</td>\n",
       "      <td>10.0</td>\n",
       "      <td>Washington St at Kearny St</td>\n",
       "      <td>37.795393</td>\n",
       "      <td>-122.404770</td>\n",
       "      <td>127.0</td>\n",
       "      <td>Valencia St at 21st St</td>\n",
       "      <td>37.756708</td>\n",
       "      <td>-122.421025</td>\n",
       "      <td>6548</td>\n",
       "      <td>Subscriber</td>\n",
       "      <td>1988.0</td>\n",
       "      <td>Other</td>\n",
       "      <td>No</td>\n",
       "    </tr>\n",
       "    <tr>\n",
       "      <th>131</th>\n",
       "      <td>1187</td>\n",
       "      <td>2019-02-28 22:39:58.5600</td>\n",
       "      <td>2019-02-28 22:59:46.2060</td>\n",
       "      <td>262.0</td>\n",
       "      <td>West St at University Ave</td>\n",
       "      <td>37.869967</td>\n",
       "      <td>-122.286533</td>\n",
       "      <td>240.0</td>\n",
       "      <td>Haste St at Telegraph Ave</td>\n",
       "      <td>37.866043</td>\n",
       "      <td>-122.258804</td>\n",
       "      <td>5649</td>\n",
       "      <td>Subscriber</td>\n",
       "      <td>1993.0</td>\n",
       "      <td>Other</td>\n",
       "      <td>No</td>\n",
       "    </tr>\n",
       "    <tr>\n",
       "      <th>135</th>\n",
       "      <td>544</td>\n",
       "      <td>2019-02-28 22:48:12.7300</td>\n",
       "      <td>2019-02-28 22:57:17.0800</td>\n",
       "      <td>356.0</td>\n",
       "      <td>Valencia St at Clinton Park</td>\n",
       "      <td>37.769188</td>\n",
       "      <td>-122.422285</td>\n",
       "      <td>34.0</td>\n",
       "      <td>Father Alfred E Boeddeker Park</td>\n",
       "      <td>37.783988</td>\n",
       "      <td>-122.412408</td>\n",
       "      <td>6065</td>\n",
       "      <td>Subscriber</td>\n",
       "      <td>1991.0</td>\n",
       "      <td>Other</td>\n",
       "      <td>No</td>\n",
       "    </tr>\n",
       "    <tr>\n",
       "      <th>190</th>\n",
       "      <td>515</td>\n",
       "      <td>2019-02-28 22:28:11.3470</td>\n",
       "      <td>2019-02-28 22:36:46.3890</td>\n",
       "      <td>58.0</td>\n",
       "      <td>Market St at 10th St</td>\n",
       "      <td>37.776619</td>\n",
       "      <td>-122.417385</td>\n",
       "      <td>321.0</td>\n",
       "      <td>5th St at Folsom</td>\n",
       "      <td>37.780146</td>\n",
       "      <td>-122.403071</td>\n",
       "      <td>5234</td>\n",
       "      <td>Subscriber</td>\n",
       "      <td>1981.0</td>\n",
       "      <td>Other</td>\n",
       "      <td>No</td>\n",
       "    </tr>\n",
       "    <tr>\n",
       "      <th>...</th>\n",
       "      <td>...</td>\n",
       "      <td>...</td>\n",
       "      <td>...</td>\n",
       "      <td>...</td>\n",
       "      <td>...</td>\n",
       "      <td>...</td>\n",
       "      <td>...</td>\n",
       "      <td>...</td>\n",
       "      <td>...</td>\n",
       "      <td>...</td>\n",
       "      <td>...</td>\n",
       "      <td>...</td>\n",
       "      <td>...</td>\n",
       "      <td>...</td>\n",
       "      <td>...</td>\n",
       "      <td>...</td>\n",
       "    </tr>\n",
       "    <tr>\n",
       "      <th>183346</th>\n",
       "      <td>312</td>\n",
       "      <td>2019-02-01 02:06:04.5660</td>\n",
       "      <td>2019-02-01 02:11:17.1220</td>\n",
       "      <td>175.0</td>\n",
       "      <td>49th St at Telegraph Ave</td>\n",
       "      <td>37.835946</td>\n",
       "      <td>-122.262366</td>\n",
       "      <td>166.0</td>\n",
       "      <td>College Ave at Alcatraz Ave</td>\n",
       "      <td>37.851376</td>\n",
       "      <td>-122.252523</td>\n",
       "      <td>5450</td>\n",
       "      <td>Subscriber</td>\n",
       "      <td>1997.0</td>\n",
       "      <td>Other</td>\n",
       "      <td>Yes</td>\n",
       "    </tr>\n",
       "    <tr>\n",
       "      <th>183349</th>\n",
       "      <td>527</td>\n",
       "      <td>2019-02-01 01:48:54.7550</td>\n",
       "      <td>2019-02-01 01:57:42.5400</td>\n",
       "      <td>213.0</td>\n",
       "      <td>32nd St at Adeline St</td>\n",
       "      <td>37.823847</td>\n",
       "      <td>-122.281193</td>\n",
       "      <td>158.0</td>\n",
       "      <td>Shattuck Ave at Telegraph Ave</td>\n",
       "      <td>37.833279</td>\n",
       "      <td>-122.263490</td>\n",
       "      <td>1172</td>\n",
       "      <td>Subscriber</td>\n",
       "      <td>1997.0</td>\n",
       "      <td>Other</td>\n",
       "      <td>Yes</td>\n",
       "    </tr>\n",
       "    <tr>\n",
       "      <th>183378</th>\n",
       "      <td>659</td>\n",
       "      <td>2019-02-01 00:53:36.1430</td>\n",
       "      <td>2019-02-01 01:04:35.3710</td>\n",
       "      <td>47.0</td>\n",
       "      <td>4th St at Harrison St</td>\n",
       "      <td>37.780955</td>\n",
       "      <td>-122.399749</td>\n",
       "      <td>67.0</td>\n",
       "      <td>San Francisco Caltrain Station 2  (Townsend St...</td>\n",
       "      <td>37.776639</td>\n",
       "      <td>-122.395526</td>\n",
       "      <td>4960</td>\n",
       "      <td>Subscriber</td>\n",
       "      <td>1985.0</td>\n",
       "      <td>Other</td>\n",
       "      <td>No</td>\n",
       "    </tr>\n",
       "    <tr>\n",
       "      <th>183381</th>\n",
       "      <td>426</td>\n",
       "      <td>2019-02-01 00:48:54.1590</td>\n",
       "      <td>2019-02-01 00:56:00.4740</td>\n",
       "      <td>230.0</td>\n",
       "      <td>14th St at Mandela Pkwy</td>\n",
       "      <td>37.810743</td>\n",
       "      <td>-122.291415</td>\n",
       "      <td>213.0</td>\n",
       "      <td>32nd St at Adeline St</td>\n",
       "      <td>37.823847</td>\n",
       "      <td>-122.281193</td>\n",
       "      <td>3535</td>\n",
       "      <td>Subscriber</td>\n",
       "      <td>1997.0</td>\n",
       "      <td>Other</td>\n",
       "      <td>Yes</td>\n",
       "    </tr>\n",
       "    <tr>\n",
       "      <th>183389</th>\n",
       "      <td>184</td>\n",
       "      <td>2019-02-01 00:43:56.5560</td>\n",
       "      <td>2019-02-01 00:47:01.0090</td>\n",
       "      <td>66.0</td>\n",
       "      <td>3rd St at Townsend St</td>\n",
       "      <td>37.778742</td>\n",
       "      <td>-122.392741</td>\n",
       "      <td>47.0</td>\n",
       "      <td>4th St at Harrison St</td>\n",
       "      <td>37.780955</td>\n",
       "      <td>-122.399749</td>\n",
       "      <td>4960</td>\n",
       "      <td>Subscriber</td>\n",
       "      <td>1985.0</td>\n",
       "      <td>Other</td>\n",
       "      <td>No</td>\n",
       "    </tr>\n",
       "  </tbody>\n",
       "</table>\n",
       "<p>3652 rows × 16 columns</p>\n",
       "</div>"
      ],
      "text/plain": [
       "        duration_sec                start_time                  end_time  \\\n",
       "3              36490  2019-02-28 17:54:26.0100  2019-03-01 04:02:36.8420   \n",
       "8               1570  2019-02-28 23:41:48.7900  2019-03-01 00:07:59.7150   \n",
       "131             1187  2019-02-28 22:39:58.5600  2019-02-28 22:59:46.2060   \n",
       "135              544  2019-02-28 22:48:12.7300  2019-02-28 22:57:17.0800   \n",
       "190              515  2019-02-28 22:28:11.3470  2019-02-28 22:36:46.3890   \n",
       "...              ...                       ...                       ...   \n",
       "183346           312  2019-02-01 02:06:04.5660  2019-02-01 02:11:17.1220   \n",
       "183349           527  2019-02-01 01:48:54.7550  2019-02-01 01:57:42.5400   \n",
       "183378           659  2019-02-01 00:53:36.1430  2019-02-01 01:04:35.3710   \n",
       "183381           426  2019-02-01 00:48:54.1590  2019-02-01 00:56:00.4740   \n",
       "183389           184  2019-02-01 00:43:56.5560  2019-02-01 00:47:01.0090   \n",
       "\n",
       "        start_station_id           start_station_name  start_station_latitude  \\\n",
       "3                  375.0      Grove St at Masonic Ave               37.774836   \n",
       "8                   10.0   Washington St at Kearny St               37.795393   \n",
       "131                262.0    West St at University Ave               37.869967   \n",
       "135                356.0  Valencia St at Clinton Park               37.769188   \n",
       "190                 58.0         Market St at 10th St               37.776619   \n",
       "...                  ...                          ...                     ...   \n",
       "183346             175.0     49th St at Telegraph Ave               37.835946   \n",
       "183349             213.0        32nd St at Adeline St               37.823847   \n",
       "183378              47.0        4th St at Harrison St               37.780955   \n",
       "183381             230.0      14th St at Mandela Pkwy               37.810743   \n",
       "183389              66.0        3rd St at Townsend St               37.778742   \n",
       "\n",
       "        start_station_longitude  end_station_id  \\\n",
       "3                   -122.446546            70.0   \n",
       "8                   -122.404770           127.0   \n",
       "131                 -122.286533           240.0   \n",
       "135                 -122.422285            34.0   \n",
       "190                 -122.417385           321.0   \n",
       "...                         ...             ...   \n",
       "183346              -122.262366           166.0   \n",
       "183349              -122.281193           158.0   \n",
       "183378              -122.399749            67.0   \n",
       "183381              -122.291415           213.0   \n",
       "183389              -122.392741            47.0   \n",
       "\n",
       "                                         end_station_name  \\\n",
       "3                                  Central Ave at Fell St   \n",
       "8                                  Valencia St at 21st St   \n",
       "131                             Haste St at Telegraph Ave   \n",
       "135                        Father Alfred E Boeddeker Park   \n",
       "190                                      5th St at Folsom   \n",
       "...                                                   ...   \n",
       "183346                        College Ave at Alcatraz Ave   \n",
       "183349                      Shattuck Ave at Telegraph Ave   \n",
       "183378  San Francisco Caltrain Station 2  (Townsend St...   \n",
       "183381                              32nd St at Adeline St   \n",
       "183389                              4th St at Harrison St   \n",
       "\n",
       "        end_station_latitude  end_station_longitude  bike_id   user_type  \\\n",
       "3                  37.773311            -122.444293     6638  Subscriber   \n",
       "8                  37.756708            -122.421025     6548  Subscriber   \n",
       "131                37.866043            -122.258804     5649  Subscriber   \n",
       "135                37.783988            -122.412408     6065  Subscriber   \n",
       "190                37.780146            -122.403071     5234  Subscriber   \n",
       "...                      ...                    ...      ...         ...   \n",
       "183346             37.851376            -122.252523     5450  Subscriber   \n",
       "183349             37.833279            -122.263490     1172  Subscriber   \n",
       "183378             37.776639            -122.395526     4960  Subscriber   \n",
       "183381             37.823847            -122.281193     3535  Subscriber   \n",
       "183389             37.780955            -122.399749     4960  Subscriber   \n",
       "\n",
       "        member_birth_year member_gender bike_share_for_all_trip  \n",
       "3                  1989.0         Other                      No  \n",
       "8                  1988.0         Other                      No  \n",
       "131                1993.0         Other                      No  \n",
       "135                1991.0         Other                      No  \n",
       "190                1981.0         Other                      No  \n",
       "...                   ...           ...                     ...  \n",
       "183346             1997.0         Other                     Yes  \n",
       "183349             1997.0         Other                     Yes  \n",
       "183378             1985.0         Other                      No  \n",
       "183381             1997.0         Other                     Yes  \n",
       "183389             1985.0         Other                      No  \n",
       "\n",
       "[3652 rows x 16 columns]"
      ]
     },
     "execution_count": 8,
     "metadata": {},
     "output_type": "execute_result"
    }
   ],
   "source": [
    "## Show the rows in which member gender equal other\n",
    "df_main.loc[df_main.member_gender == 'Other']"
   ]
  },
  {
   "cell_type": "code",
   "execution_count": 9,
   "metadata": {},
   "outputs": [
    {
     "data": {
      "text/html": [
       "<div>\n",
       "<style scoped>\n",
       "    .dataframe tbody tr th:only-of-type {\n",
       "        vertical-align: middle;\n",
       "    }\n",
       "\n",
       "    .dataframe tbody tr th {\n",
       "        vertical-align: top;\n",
       "    }\n",
       "\n",
       "    .dataframe thead th {\n",
       "        text-align: right;\n",
       "    }\n",
       "</style>\n",
       "<table border=\"1\" class=\"dataframe\">\n",
       "  <thead>\n",
       "    <tr style=\"text-align: right;\">\n",
       "      <th></th>\n",
       "      <th>duration_sec</th>\n",
       "      <th>start_station_id</th>\n",
       "      <th>start_station_latitude</th>\n",
       "      <th>start_station_longitude</th>\n",
       "      <th>end_station_id</th>\n",
       "      <th>end_station_latitude</th>\n",
       "      <th>end_station_longitude</th>\n",
       "      <th>bike_id</th>\n",
       "      <th>member_birth_year</th>\n",
       "    </tr>\n",
       "  </thead>\n",
       "  <tbody>\n",
       "    <tr>\n",
       "      <th>count</th>\n",
       "      <td>183412.000000</td>\n",
       "      <td>183215.000000</td>\n",
       "      <td>183412.000000</td>\n",
       "      <td>183412.000000</td>\n",
       "      <td>183215.000000</td>\n",
       "      <td>183412.000000</td>\n",
       "      <td>183412.000000</td>\n",
       "      <td>183412.000000</td>\n",
       "      <td>175147.000000</td>\n",
       "    </tr>\n",
       "    <tr>\n",
       "      <th>mean</th>\n",
       "      <td>726.078435</td>\n",
       "      <td>138.590427</td>\n",
       "      <td>37.771223</td>\n",
       "      <td>-122.352664</td>\n",
       "      <td>136.249123</td>\n",
       "      <td>37.771427</td>\n",
       "      <td>-122.352250</td>\n",
       "      <td>4472.906375</td>\n",
       "      <td>1984.806437</td>\n",
       "    </tr>\n",
       "    <tr>\n",
       "      <th>std</th>\n",
       "      <td>1794.389780</td>\n",
       "      <td>111.778864</td>\n",
       "      <td>0.099581</td>\n",
       "      <td>0.117097</td>\n",
       "      <td>111.515131</td>\n",
       "      <td>0.099490</td>\n",
       "      <td>0.116673</td>\n",
       "      <td>1664.383394</td>\n",
       "      <td>10.116689</td>\n",
       "    </tr>\n",
       "    <tr>\n",
       "      <th>min</th>\n",
       "      <td>61.000000</td>\n",
       "      <td>3.000000</td>\n",
       "      <td>37.317298</td>\n",
       "      <td>-122.453704</td>\n",
       "      <td>3.000000</td>\n",
       "      <td>37.317298</td>\n",
       "      <td>-122.453704</td>\n",
       "      <td>11.000000</td>\n",
       "      <td>1878.000000</td>\n",
       "    </tr>\n",
       "    <tr>\n",
       "      <th>25%</th>\n",
       "      <td>325.000000</td>\n",
       "      <td>47.000000</td>\n",
       "      <td>37.770083</td>\n",
       "      <td>-122.412408</td>\n",
       "      <td>44.000000</td>\n",
       "      <td>37.770407</td>\n",
       "      <td>-122.411726</td>\n",
       "      <td>3777.000000</td>\n",
       "      <td>1980.000000</td>\n",
       "    </tr>\n",
       "    <tr>\n",
       "      <th>50%</th>\n",
       "      <td>514.000000</td>\n",
       "      <td>104.000000</td>\n",
       "      <td>37.780760</td>\n",
       "      <td>-122.398285</td>\n",
       "      <td>100.000000</td>\n",
       "      <td>37.781010</td>\n",
       "      <td>-122.398279</td>\n",
       "      <td>4958.000000</td>\n",
       "      <td>1987.000000</td>\n",
       "    </tr>\n",
       "    <tr>\n",
       "      <th>75%</th>\n",
       "      <td>796.000000</td>\n",
       "      <td>239.000000</td>\n",
       "      <td>37.797280</td>\n",
       "      <td>-122.286533</td>\n",
       "      <td>235.000000</td>\n",
       "      <td>37.797320</td>\n",
       "      <td>-122.288045</td>\n",
       "      <td>5502.000000</td>\n",
       "      <td>1992.000000</td>\n",
       "    </tr>\n",
       "    <tr>\n",
       "      <th>max</th>\n",
       "      <td>85444.000000</td>\n",
       "      <td>398.000000</td>\n",
       "      <td>37.880222</td>\n",
       "      <td>-121.874119</td>\n",
       "      <td>398.000000</td>\n",
       "      <td>37.880222</td>\n",
       "      <td>-121.874119</td>\n",
       "      <td>6645.000000</td>\n",
       "      <td>2001.000000</td>\n",
       "    </tr>\n",
       "  </tbody>\n",
       "</table>\n",
       "</div>"
      ],
      "text/plain": [
       "        duration_sec  start_station_id  start_station_latitude  \\\n",
       "count  183412.000000     183215.000000           183412.000000   \n",
       "mean      726.078435        138.590427               37.771223   \n",
       "std      1794.389780        111.778864                0.099581   \n",
       "min        61.000000          3.000000               37.317298   \n",
       "25%       325.000000         47.000000               37.770083   \n",
       "50%       514.000000        104.000000               37.780760   \n",
       "75%       796.000000        239.000000               37.797280   \n",
       "max     85444.000000        398.000000               37.880222   \n",
       "\n",
       "       start_station_longitude  end_station_id  end_station_latitude  \\\n",
       "count            183412.000000   183215.000000         183412.000000   \n",
       "mean               -122.352664      136.249123             37.771427   \n",
       "std                   0.117097      111.515131              0.099490   \n",
       "min                -122.453704        3.000000             37.317298   \n",
       "25%                -122.412408       44.000000             37.770407   \n",
       "50%                -122.398285      100.000000             37.781010   \n",
       "75%                -122.286533      235.000000             37.797320   \n",
       "max                -121.874119      398.000000             37.880222   \n",
       "\n",
       "       end_station_longitude        bike_id  member_birth_year  \n",
       "count          183412.000000  183412.000000      175147.000000  \n",
       "mean             -122.352250    4472.906375        1984.806437  \n",
       "std                 0.116673    1664.383394          10.116689  \n",
       "min              -122.453704      11.000000        1878.000000  \n",
       "25%              -122.411726    3777.000000        1980.000000  \n",
       "50%              -122.398279    4958.000000        1987.000000  \n",
       "75%              -122.288045    5502.000000        1992.000000  \n",
       "max              -121.874119    6645.000000        2001.000000  "
      ]
     },
     "execution_count": 9,
     "metadata": {},
     "output_type": "execute_result"
    }
   ],
   "source": [
    "## Show descriptive data of quantitative columns \n",
    "df_main.describe()"
   ]
  },
  {
   "cell_type": "code",
   "execution_count": 10,
   "metadata": {},
   "outputs": [
    {
     "data": {
      "text/plain": [
       "65    1878.0\n",
       "48    1900.0\n",
       "66    1901.0\n",
       "72    1902.0\n",
       "73    1910.0\n",
       "       ...  \n",
       "27    1998.0\n",
       "30    1999.0\n",
       "18    2000.0\n",
       "64    2001.0\n",
       "1        NaN\n",
       "Length: 76, dtype: float64"
      ]
     },
     "execution_count": 10,
     "metadata": {},
     "output_type": "execute_result"
    }
   ],
   "source": [
    "## Check member_birth_year values\n",
    "a = pd.Series(df_main['member_birth_year'].unique()).sort_values()\n",
    "a"
   ]
  },
  {
   "cell_type": "code",
   "execution_count": 11,
   "metadata": {},
   "outputs": [
    {
     "data": {
      "text/html": [
       "<div>\n",
       "<style scoped>\n",
       "    .dataframe tbody tr th:only-of-type {\n",
       "        vertical-align: middle;\n",
       "    }\n",
       "\n",
       "    .dataframe tbody tr th {\n",
       "        vertical-align: top;\n",
       "    }\n",
       "\n",
       "    .dataframe thead th {\n",
       "        text-align: right;\n",
       "    }\n",
       "</style>\n",
       "<table border=\"1\" class=\"dataframe\">\n",
       "  <thead>\n",
       "    <tr style=\"text-align: right;\">\n",
       "      <th></th>\n",
       "      <th>duration_sec</th>\n",
       "      <th>start_time</th>\n",
       "      <th>end_time</th>\n",
       "      <th>start_station_id</th>\n",
       "      <th>start_station_name</th>\n",
       "      <th>start_station_latitude</th>\n",
       "      <th>start_station_longitude</th>\n",
       "      <th>end_station_id</th>\n",
       "      <th>end_station_name</th>\n",
       "      <th>end_station_latitude</th>\n",
       "      <th>end_station_longitude</th>\n",
       "      <th>bike_id</th>\n",
       "      <th>user_type</th>\n",
       "      <th>member_birth_year</th>\n",
       "      <th>member_gender</th>\n",
       "      <th>bike_share_for_all_trip</th>\n",
       "    </tr>\n",
       "  </thead>\n",
       "  <tbody>\n",
       "    <tr>\n",
       "      <th>27370</th>\n",
       "      <td>1474</td>\n",
       "      <td>2019-02-25 09:28:42.1610</td>\n",
       "      <td>2019-02-25 09:53:17.0680</td>\n",
       "      <td>15.0</td>\n",
       "      <td>San Francisco Ferry Building (Harry Bridges Pl...</td>\n",
       "      <td>37.795392</td>\n",
       "      <td>-122.394203</td>\n",
       "      <td>386.0</td>\n",
       "      <td>24th St at Bartlett St</td>\n",
       "      <td>37.752105</td>\n",
       "      <td>-122.419724</td>\n",
       "      <td>6436</td>\n",
       "      <td>Customer</td>\n",
       "      <td>1878.0</td>\n",
       "      <td>Female</td>\n",
       "      <td>No</td>\n",
       "    </tr>\n",
       "  </tbody>\n",
       "</table>\n",
       "</div>"
      ],
      "text/plain": [
       "       duration_sec                start_time                  end_time  \\\n",
       "27370          1474  2019-02-25 09:28:42.1610  2019-02-25 09:53:17.0680   \n",
       "\n",
       "       start_station_id                                 start_station_name  \\\n",
       "27370              15.0  San Francisco Ferry Building (Harry Bridges Pl...   \n",
       "\n",
       "       start_station_latitude  start_station_longitude  end_station_id  \\\n",
       "27370               37.795392              -122.394203           386.0   \n",
       "\n",
       "             end_station_name  end_station_latitude  end_station_longitude  \\\n",
       "27370  24th St at Bartlett St             37.752105            -122.419724   \n",
       "\n",
       "       bike_id user_type  member_birth_year member_gender  \\\n",
       "27370     6436  Customer             1878.0        Female   \n",
       "\n",
       "      bike_share_for_all_trip  \n",
       "27370                      No  "
      ]
     },
     "execution_count": 11,
     "metadata": {},
     "output_type": "execute_result"
    }
   ],
   "source": [
    "## Check member_birth_year values less than 1900 (as verified oldest people is 122 year )\n",
    "df_main.loc[df_main.member_birth_year  < 1900 ]"
   ]
  },
  {
   "cell_type": "markdown",
   "metadata": {},
   "source": [
    "<a id='clean'></a>\n",
    "### 1.2 - Clean \n",
    "\n",
    "* convert dauration_sec to hours .\n",
    "* Drop Nan Values . \n",
    "* Drop member_birth_year values less than 1900 (as verified oldest person age is 122 year ) .\n",
    "* Get the age of the users then drop usage year column used to get user_age .\n",
    "* Change columns type :    \n",
    "   (start_time , end_time ) to datetime64 .  \n",
    "   (start_station_id , end_station_id , user_age) to int64 .  \n",
    "   (start_station_name , end_station_name, bike_id , user_type , member_birth_year , member_gender ) to category .  \n",
    "   (bike_share_for_all_trip) to boolean .     \n",
    " "
   ]
  },
  {
   "cell_type": "code",
   "execution_count": 12,
   "metadata": {},
   "outputs": [],
   "source": [
    "## Copy the dataset\n",
    "df = df_main.copy()\n"
   ]
  },
  {
   "cell_type": "code",
   "execution_count": 13,
   "metadata": {},
   "outputs": [
    {
     "data": {
      "text/html": [
       "<div>\n",
       "<style scoped>\n",
       "    .dataframe tbody tr th:only-of-type {\n",
       "        vertical-align: middle;\n",
       "    }\n",
       "\n",
       "    .dataframe tbody tr th {\n",
       "        vertical-align: top;\n",
       "    }\n",
       "\n",
       "    .dataframe thead th {\n",
       "        text-align: right;\n",
       "    }\n",
       "</style>\n",
       "<table border=\"1\" class=\"dataframe\">\n",
       "  <thead>\n",
       "    <tr style=\"text-align: right;\">\n",
       "      <th></th>\n",
       "      <th>duration_hour</th>\n",
       "      <th>start_time</th>\n",
       "      <th>end_time</th>\n",
       "      <th>start_station_id</th>\n",
       "      <th>start_station_name</th>\n",
       "      <th>start_station_latitude</th>\n",
       "      <th>start_station_longitude</th>\n",
       "      <th>end_station_id</th>\n",
       "      <th>end_station_name</th>\n",
       "      <th>end_station_latitude</th>\n",
       "      <th>end_station_longitude</th>\n",
       "      <th>bike_id</th>\n",
       "      <th>user_type</th>\n",
       "      <th>member_birth_year</th>\n",
       "      <th>member_gender</th>\n",
       "      <th>bike_share_for_all_trip</th>\n",
       "    </tr>\n",
       "  </thead>\n",
       "  <tbody>\n",
       "    <tr>\n",
       "      <th>0</th>\n",
       "      <td>14.50</td>\n",
       "      <td>2019-02-28 17:32:10.1450</td>\n",
       "      <td>2019-03-01 08:01:55.9750</td>\n",
       "      <td>21.0</td>\n",
       "      <td>Montgomery St BART Station (Market St at 2nd St)</td>\n",
       "      <td>37.789625</td>\n",
       "      <td>-122.400811</td>\n",
       "      <td>13.0</td>\n",
       "      <td>Commercial St at Montgomery St</td>\n",
       "      <td>37.794231</td>\n",
       "      <td>-122.402923</td>\n",
       "      <td>4902</td>\n",
       "      <td>Customer</td>\n",
       "      <td>1984.0</td>\n",
       "      <td>Male</td>\n",
       "      <td>No</td>\n",
       "    </tr>\n",
       "    <tr>\n",
       "      <th>1</th>\n",
       "      <td>11.81</td>\n",
       "      <td>2019-02-28 18:53:21.7890</td>\n",
       "      <td>2019-03-01 06:42:03.0560</td>\n",
       "      <td>23.0</td>\n",
       "      <td>The Embarcadero at Steuart St</td>\n",
       "      <td>37.791464</td>\n",
       "      <td>-122.391034</td>\n",
       "      <td>81.0</td>\n",
       "      <td>Berry St at 4th St</td>\n",
       "      <td>37.775880</td>\n",
       "      <td>-122.393170</td>\n",
       "      <td>2535</td>\n",
       "      <td>Customer</td>\n",
       "      <td>NaN</td>\n",
       "      <td>NaN</td>\n",
       "      <td>No</td>\n",
       "    </tr>\n",
       "    <tr>\n",
       "      <th>2</th>\n",
       "      <td>17.18</td>\n",
       "      <td>2019-02-28 12:13:13.2180</td>\n",
       "      <td>2019-03-01 05:24:08.1460</td>\n",
       "      <td>86.0</td>\n",
       "      <td>Market St at Dolores St</td>\n",
       "      <td>37.769305</td>\n",
       "      <td>-122.426826</td>\n",
       "      <td>3.0</td>\n",
       "      <td>Powell St BART Station (Market St at 4th St)</td>\n",
       "      <td>37.786375</td>\n",
       "      <td>-122.404904</td>\n",
       "      <td>5905</td>\n",
       "      <td>Customer</td>\n",
       "      <td>1972.0</td>\n",
       "      <td>Male</td>\n",
       "      <td>No</td>\n",
       "    </tr>\n",
       "    <tr>\n",
       "      <th>3</th>\n",
       "      <td>10.14</td>\n",
       "      <td>2019-02-28 17:54:26.0100</td>\n",
       "      <td>2019-03-01 04:02:36.8420</td>\n",
       "      <td>375.0</td>\n",
       "      <td>Grove St at Masonic Ave</td>\n",
       "      <td>37.774836</td>\n",
       "      <td>-122.446546</td>\n",
       "      <td>70.0</td>\n",
       "      <td>Central Ave at Fell St</td>\n",
       "      <td>37.773311</td>\n",
       "      <td>-122.444293</td>\n",
       "      <td>6638</td>\n",
       "      <td>Subscriber</td>\n",
       "      <td>1989.0</td>\n",
       "      <td>Other</td>\n",
       "      <td>No</td>\n",
       "    </tr>\n",
       "    <tr>\n",
       "      <th>4</th>\n",
       "      <td>0.44</td>\n",
       "      <td>2019-02-28 23:54:18.5490</td>\n",
       "      <td>2019-03-01 00:20:44.0740</td>\n",
       "      <td>7.0</td>\n",
       "      <td>Frank H Ogawa Plaza</td>\n",
       "      <td>37.804562</td>\n",
       "      <td>-122.271738</td>\n",
       "      <td>222.0</td>\n",
       "      <td>10th Ave at E 15th St</td>\n",
       "      <td>37.792714</td>\n",
       "      <td>-122.248780</td>\n",
       "      <td>4898</td>\n",
       "      <td>Subscriber</td>\n",
       "      <td>1974.0</td>\n",
       "      <td>Male</td>\n",
       "      <td>Yes</td>\n",
       "    </tr>\n",
       "    <tr>\n",
       "      <th>...</th>\n",
       "      <td>...</td>\n",
       "      <td>...</td>\n",
       "      <td>...</td>\n",
       "      <td>...</td>\n",
       "      <td>...</td>\n",
       "      <td>...</td>\n",
       "      <td>...</td>\n",
       "      <td>...</td>\n",
       "      <td>...</td>\n",
       "      <td>...</td>\n",
       "      <td>...</td>\n",
       "      <td>...</td>\n",
       "      <td>...</td>\n",
       "      <td>...</td>\n",
       "      <td>...</td>\n",
       "      <td>...</td>\n",
       "    </tr>\n",
       "    <tr>\n",
       "      <th>183407</th>\n",
       "      <td>0.13</td>\n",
       "      <td>2019-02-01 00:04:49.7240</td>\n",
       "      <td>2019-02-01 00:12:50.0340</td>\n",
       "      <td>27.0</td>\n",
       "      <td>Beale St at Harrison St</td>\n",
       "      <td>37.788059</td>\n",
       "      <td>-122.391865</td>\n",
       "      <td>324.0</td>\n",
       "      <td>Union Square (Powell St at Post St)</td>\n",
       "      <td>37.788300</td>\n",
       "      <td>-122.408531</td>\n",
       "      <td>4832</td>\n",
       "      <td>Subscriber</td>\n",
       "      <td>1996.0</td>\n",
       "      <td>Male</td>\n",
       "      <td>No</td>\n",
       "    </tr>\n",
       "    <tr>\n",
       "      <th>183408</th>\n",
       "      <td>0.09</td>\n",
       "      <td>2019-02-01 00:05:34.7440</td>\n",
       "      <td>2019-02-01 00:10:48.5020</td>\n",
       "      <td>21.0</td>\n",
       "      <td>Montgomery St BART Station (Market St at 2nd St)</td>\n",
       "      <td>37.789625</td>\n",
       "      <td>-122.400811</td>\n",
       "      <td>66.0</td>\n",
       "      <td>3rd St at Townsend St</td>\n",
       "      <td>37.778742</td>\n",
       "      <td>-122.392741</td>\n",
       "      <td>4960</td>\n",
       "      <td>Subscriber</td>\n",
       "      <td>1984.0</td>\n",
       "      <td>Male</td>\n",
       "      <td>No</td>\n",
       "    </tr>\n",
       "    <tr>\n",
       "      <th>183409</th>\n",
       "      <td>0.04</td>\n",
       "      <td>2019-02-01 00:06:05.5490</td>\n",
       "      <td>2019-02-01 00:08:27.2200</td>\n",
       "      <td>278.0</td>\n",
       "      <td>The Alameda at Bush St</td>\n",
       "      <td>37.331932</td>\n",
       "      <td>-121.904888</td>\n",
       "      <td>277.0</td>\n",
       "      <td>Morrison Ave at Julian St</td>\n",
       "      <td>37.333658</td>\n",
       "      <td>-121.908586</td>\n",
       "      <td>3824</td>\n",
       "      <td>Subscriber</td>\n",
       "      <td>1990.0</td>\n",
       "      <td>Male</td>\n",
       "      <td>Yes</td>\n",
       "    </tr>\n",
       "    <tr>\n",
       "      <th>183410</th>\n",
       "      <td>0.04</td>\n",
       "      <td>2019-02-01 00:05:34.3600</td>\n",
       "      <td>2019-02-01 00:07:54.2870</td>\n",
       "      <td>220.0</td>\n",
       "      <td>San Pablo Ave at MLK Jr Way</td>\n",
       "      <td>37.811351</td>\n",
       "      <td>-122.273422</td>\n",
       "      <td>216.0</td>\n",
       "      <td>San Pablo Ave at 27th St</td>\n",
       "      <td>37.817827</td>\n",
       "      <td>-122.275698</td>\n",
       "      <td>5095</td>\n",
       "      <td>Subscriber</td>\n",
       "      <td>1988.0</td>\n",
       "      <td>Male</td>\n",
       "      <td>No</td>\n",
       "    </tr>\n",
       "    <tr>\n",
       "      <th>183411</th>\n",
       "      <td>0.08</td>\n",
       "      <td>2019-02-01 00:00:20.6360</td>\n",
       "      <td>2019-02-01 00:04:52.0580</td>\n",
       "      <td>24.0</td>\n",
       "      <td>Spear St at Folsom St</td>\n",
       "      <td>37.789677</td>\n",
       "      <td>-122.390428</td>\n",
       "      <td>37.0</td>\n",
       "      <td>2nd St at Folsom St</td>\n",
       "      <td>37.785000</td>\n",
       "      <td>-122.395936</td>\n",
       "      <td>1057</td>\n",
       "      <td>Subscriber</td>\n",
       "      <td>1989.0</td>\n",
       "      <td>Male</td>\n",
       "      <td>No</td>\n",
       "    </tr>\n",
       "  </tbody>\n",
       "</table>\n",
       "<p>183412 rows × 16 columns</p>\n",
       "</div>"
      ],
      "text/plain": [
       "        duration_hour                start_time                  end_time  \\\n",
       "0               14.50  2019-02-28 17:32:10.1450  2019-03-01 08:01:55.9750   \n",
       "1               11.81  2019-02-28 18:53:21.7890  2019-03-01 06:42:03.0560   \n",
       "2               17.18  2019-02-28 12:13:13.2180  2019-03-01 05:24:08.1460   \n",
       "3               10.14  2019-02-28 17:54:26.0100  2019-03-01 04:02:36.8420   \n",
       "4                0.44  2019-02-28 23:54:18.5490  2019-03-01 00:20:44.0740   \n",
       "...               ...                       ...                       ...   \n",
       "183407           0.13  2019-02-01 00:04:49.7240  2019-02-01 00:12:50.0340   \n",
       "183408           0.09  2019-02-01 00:05:34.7440  2019-02-01 00:10:48.5020   \n",
       "183409           0.04  2019-02-01 00:06:05.5490  2019-02-01 00:08:27.2200   \n",
       "183410           0.04  2019-02-01 00:05:34.3600  2019-02-01 00:07:54.2870   \n",
       "183411           0.08  2019-02-01 00:00:20.6360  2019-02-01 00:04:52.0580   \n",
       "\n",
       "        start_station_id                                start_station_name  \\\n",
       "0                   21.0  Montgomery St BART Station (Market St at 2nd St)   \n",
       "1                   23.0                     The Embarcadero at Steuart St   \n",
       "2                   86.0                           Market St at Dolores St   \n",
       "3                  375.0                           Grove St at Masonic Ave   \n",
       "4                    7.0                               Frank H Ogawa Plaza   \n",
       "...                  ...                                               ...   \n",
       "183407              27.0                           Beale St at Harrison St   \n",
       "183408              21.0  Montgomery St BART Station (Market St at 2nd St)   \n",
       "183409             278.0                            The Alameda at Bush St   \n",
       "183410             220.0                       San Pablo Ave at MLK Jr Way   \n",
       "183411              24.0                             Spear St at Folsom St   \n",
       "\n",
       "        start_station_latitude  start_station_longitude  end_station_id  \\\n",
       "0                    37.789625              -122.400811            13.0   \n",
       "1                    37.791464              -122.391034            81.0   \n",
       "2                    37.769305              -122.426826             3.0   \n",
       "3                    37.774836              -122.446546            70.0   \n",
       "4                    37.804562              -122.271738           222.0   \n",
       "...                        ...                      ...             ...   \n",
       "183407               37.788059              -122.391865           324.0   \n",
       "183408               37.789625              -122.400811            66.0   \n",
       "183409               37.331932              -121.904888           277.0   \n",
       "183410               37.811351              -122.273422           216.0   \n",
       "183411               37.789677              -122.390428            37.0   \n",
       "\n",
       "                                    end_station_name  end_station_latitude  \\\n",
       "0                     Commercial St at Montgomery St             37.794231   \n",
       "1                                 Berry St at 4th St             37.775880   \n",
       "2       Powell St BART Station (Market St at 4th St)             37.786375   \n",
       "3                             Central Ave at Fell St             37.773311   \n",
       "4                              10th Ave at E 15th St             37.792714   \n",
       "...                                              ...                   ...   \n",
       "183407           Union Square (Powell St at Post St)             37.788300   \n",
       "183408                         3rd St at Townsend St             37.778742   \n",
       "183409                     Morrison Ave at Julian St             37.333658   \n",
       "183410                      San Pablo Ave at 27th St             37.817827   \n",
       "183411                           2nd St at Folsom St             37.785000   \n",
       "\n",
       "        end_station_longitude  bike_id   user_type  member_birth_year  \\\n",
       "0                 -122.402923     4902    Customer             1984.0   \n",
       "1                 -122.393170     2535    Customer                NaN   \n",
       "2                 -122.404904     5905    Customer             1972.0   \n",
       "3                 -122.444293     6638  Subscriber             1989.0   \n",
       "4                 -122.248780     4898  Subscriber             1974.0   \n",
       "...                       ...      ...         ...                ...   \n",
       "183407            -122.408531     4832  Subscriber             1996.0   \n",
       "183408            -122.392741     4960  Subscriber             1984.0   \n",
       "183409            -121.908586     3824  Subscriber             1990.0   \n",
       "183410            -122.275698     5095  Subscriber             1988.0   \n",
       "183411            -122.395936     1057  Subscriber             1989.0   \n",
       "\n",
       "       member_gender bike_share_for_all_trip  \n",
       "0               Male                      No  \n",
       "1                NaN                      No  \n",
       "2               Male                      No  \n",
       "3              Other                      No  \n",
       "4               Male                     Yes  \n",
       "...              ...                     ...  \n",
       "183407          Male                      No  \n",
       "183408          Male                      No  \n",
       "183409          Male                     Yes  \n",
       "183410          Male                      No  \n",
       "183411          Male                      No  \n",
       "\n",
       "[183412 rows x 16 columns]"
      ]
     },
     "execution_count": 13,
     "metadata": {},
     "output_type": "execute_result"
    }
   ],
   "source": [
    "df = df.rename(columns={\"duration_sec\": \"duration_hour\"})\n",
    "df.duration_hour = df.duration_hour / 3600\n",
    "df.duration_hour = df.duration_hour.round(decimals=2)\n",
    "df"
   ]
  },
  {
   "cell_type": "code",
   "execution_count": 14,
   "metadata": {},
   "outputs": [
    {
     "name": "stdout",
     "output_type": "stream",
     "text": [
      "<class 'pandas.core.frame.DataFrame'>\n",
      "Int64Index: 174952 entries, 0 to 183411\n",
      "Data columns (total 16 columns):\n",
      " #   Column                   Non-Null Count   Dtype  \n",
      "---  ------                   --------------   -----  \n",
      " 0   duration_hour            174952 non-null  float64\n",
      " 1   start_time               174952 non-null  object \n",
      " 2   end_time                 174952 non-null  object \n",
      " 3   start_station_id         174952 non-null  float64\n",
      " 4   start_station_name       174952 non-null  object \n",
      " 5   start_station_latitude   174952 non-null  float64\n",
      " 6   start_station_longitude  174952 non-null  float64\n",
      " 7   end_station_id           174952 non-null  float64\n",
      " 8   end_station_name         174952 non-null  object \n",
      " 9   end_station_latitude     174952 non-null  float64\n",
      " 10  end_station_longitude    174952 non-null  float64\n",
      " 11  bike_id                  174952 non-null  int64  \n",
      " 12  user_type                174952 non-null  object \n",
      " 13  member_birth_year        174952 non-null  float64\n",
      " 14  member_gender            174952 non-null  object \n",
      " 15  bike_share_for_all_trip  174952 non-null  object \n",
      "dtypes: float64(8), int64(1), object(7)\n",
      "memory usage: 22.7+ MB\n"
     ]
    }
   ],
   "source": [
    "## Drop Nan Values\n",
    "df = df.dropna()\n",
    "df.info()"
   ]
  },
  {
   "cell_type": "code",
   "execution_count": 15,
   "metadata": {},
   "outputs": [
    {
     "data": {
      "text/plain": [
       "63    1901.0\n",
       "69    1902.0\n",
       "70    1910.0\n",
       "60    1920.0\n",
       "72    1927.0\n",
       "       ...  \n",
       "15    1997.0\n",
       "26    1998.0\n",
       "29    1999.0\n",
       "17    2000.0\n",
       "62    2001.0\n",
       "Length: 73, dtype: float64"
      ]
     },
     "execution_count": 15,
     "metadata": {},
     "output_type": "execute_result"
    }
   ],
   "source": [
    "## Drop member_birth_year values less than 1900 (as verified oldest person age is 122 year ) .\n",
    "df = df.loc[df.member_birth_year  > 1900 ]\n",
    "b = pd.Series(df['member_birth_year'].unique()).sort_values()\n",
    "b"
   ]
  },
  {
   "cell_type": "code",
   "execution_count": 16,
   "metadata": {},
   "outputs": [
    {
     "name": "stdout",
     "output_type": "stream",
     "text": [
      "62     18\n",
      "17     19\n",
      "29     20\n",
      "26     21\n",
      "15     22\n",
      "     ... \n",
      "72     92\n",
      "60     99\n",
      "70    109\n",
      "69    117\n",
      "63    118\n",
      "Length: 73, dtype: int32\n"
     ]
    }
   ],
   "source": [
    "## Get the age of the users then drop usage year column used to get user_age .\n",
    "df['usage_year'] = pd.DatetimeIndex(df['start_time']).year\n",
    "df['user_age'] =  df['usage_year'] - df['member_birth_year']\n",
    "\n",
    "df['user_age'] = df['user_age'].astype(int)\n",
    "df['member_birth_year'] = df['member_birth_year'].astype(int)\n",
    "\n",
    "c = pd.Series(df['user_age'].unique()).sort_values()\n",
    "df.drop(['usage_year'], axis='columns', inplace=True)\n",
    "\n",
    "print(c)"
   ]
  },
  {
   "cell_type": "code",
   "execution_count": 17,
   "metadata": {},
   "outputs": [
    {
     "name": "stdout",
     "output_type": "stream",
     "text": [
      "<class 'pandas.core.frame.DataFrame'>\n",
      "Int64Index: 174898 entries, 0 to 183411\n",
      "Data columns (total 17 columns):\n",
      " #   Column                   Non-Null Count   Dtype         \n",
      "---  ------                   --------------   -----         \n",
      " 0   duration_hour            174898 non-null  float64       \n",
      " 1   start_time               174898 non-null  datetime64[ns]\n",
      " 2   end_time                 174898 non-null  datetime64[ns]\n",
      " 3   start_station_id         174898 non-null  int64         \n",
      " 4   start_station_name       174898 non-null  category      \n",
      " 5   start_station_latitude   174898 non-null  float64       \n",
      " 6   start_station_longitude  174898 non-null  float64       \n",
      " 7   end_station_id           174898 non-null  int64         \n",
      " 8   end_station_name         174898 non-null  category      \n",
      " 9   end_station_latitude     174898 non-null  float64       \n",
      " 10  end_station_longitude    174898 non-null  float64       \n",
      " 11  bike_id                  174898 non-null  category      \n",
      " 12  user_type                174898 non-null  category      \n",
      " 13  member_birth_year        174898 non-null  category      \n",
      " 14  member_gender            174898 non-null  category      \n",
      " 15  bike_share_for_all_trip  174898 non-null  bool          \n",
      " 16  user_age                 174898 non-null  int64         \n",
      "dtypes: bool(1), category(6), datetime64[ns](2), float64(5), int64(3)\n",
      "memory usage: 16.6 MB\n"
     ]
    }
   ],
   "source": [
    "## Change columns type : \n",
    "## (start_time , end_time ) to datetime64 .\n",
    "## (start_station_id , end_station_id , user_age) to int64 .\n",
    "## (start_station_name , end_station_name, bike_id , user_type , member_birth_year , member_gender ) to category .\n",
    "## (bike_share_for_all_trip) to boolean .\n",
    "\n",
    "convert_dict = {'start_time': 'datetime64',\n",
    "                'end_time': 'datetime64',\n",
    "                'start_station_id': 'int64',\n",
    "                'end_station_id': 'int64',\n",
    "                'user_age': 'int64',\n",
    "                'start_station_name': 'category',\n",
    "                'end_station_name': 'category',\n",
    "                'bike_id': 'category',\n",
    "                'user_type': 'category',\n",
    "                'member_birth_year': 'category',\n",
    "                'member_gender': 'category',\n",
    "                'bike_share_for_all_trip': bool\n",
    "               }\n",
    "\n",
    "df = df.astype(convert_dict)\n",
    "df.info()"
   ]
  },
  {
   "cell_type": "code",
   "execution_count": 18,
   "metadata": {},
   "outputs": [
    {
     "data": {
      "text/html": [
       "<div>\n",
       "<style scoped>\n",
       "    .dataframe tbody tr th:only-of-type {\n",
       "        vertical-align: middle;\n",
       "    }\n",
       "\n",
       "    .dataframe tbody tr th {\n",
       "        vertical-align: top;\n",
       "    }\n",
       "\n",
       "    .dataframe thead th {\n",
       "        text-align: right;\n",
       "    }\n",
       "</style>\n",
       "<table border=\"1\" class=\"dataframe\">\n",
       "  <thead>\n",
       "    <tr style=\"text-align: right;\">\n",
       "      <th></th>\n",
       "      <th>duration_hour</th>\n",
       "      <th>start_time</th>\n",
       "      <th>end_time</th>\n",
       "      <th>start_station_id</th>\n",
       "      <th>start_station_name</th>\n",
       "      <th>start_station_latitude</th>\n",
       "      <th>start_station_longitude</th>\n",
       "      <th>end_station_id</th>\n",
       "      <th>end_station_name</th>\n",
       "      <th>end_station_latitude</th>\n",
       "      <th>end_station_longitude</th>\n",
       "      <th>bike_id</th>\n",
       "      <th>user_type</th>\n",
       "      <th>member_birth_year</th>\n",
       "      <th>member_gender</th>\n",
       "      <th>bike_share_for_all_trip</th>\n",
       "      <th>user_age</th>\n",
       "    </tr>\n",
       "  </thead>\n",
       "  <tbody>\n",
       "    <tr>\n",
       "      <th>0</th>\n",
       "      <td>14.50</td>\n",
       "      <td>2019-02-28 17:32:10.145</td>\n",
       "      <td>2019-03-01 08:01:55.975</td>\n",
       "      <td>21</td>\n",
       "      <td>Montgomery St BART Station (Market St at 2nd St)</td>\n",
       "      <td>37.789625</td>\n",
       "      <td>-122.400811</td>\n",
       "      <td>13</td>\n",
       "      <td>Commercial St at Montgomery St</td>\n",
       "      <td>37.794231</td>\n",
       "      <td>-122.402923</td>\n",
       "      <td>4902</td>\n",
       "      <td>Customer</td>\n",
       "      <td>1984</td>\n",
       "      <td>Male</td>\n",
       "      <td>True</td>\n",
       "      <td>35</td>\n",
       "    </tr>\n",
       "    <tr>\n",
       "      <th>1</th>\n",
       "      <td>17.18</td>\n",
       "      <td>2019-02-28 12:13:13.218</td>\n",
       "      <td>2019-03-01 05:24:08.146</td>\n",
       "      <td>86</td>\n",
       "      <td>Market St at Dolores St</td>\n",
       "      <td>37.769305</td>\n",
       "      <td>-122.426826</td>\n",
       "      <td>3</td>\n",
       "      <td>Powell St BART Station (Market St at 4th St)</td>\n",
       "      <td>37.786375</td>\n",
       "      <td>-122.404904</td>\n",
       "      <td>5905</td>\n",
       "      <td>Customer</td>\n",
       "      <td>1972</td>\n",
       "      <td>Male</td>\n",
       "      <td>True</td>\n",
       "      <td>47</td>\n",
       "    </tr>\n",
       "    <tr>\n",
       "      <th>2</th>\n",
       "      <td>10.14</td>\n",
       "      <td>2019-02-28 17:54:26.010</td>\n",
       "      <td>2019-03-01 04:02:36.842</td>\n",
       "      <td>375</td>\n",
       "      <td>Grove St at Masonic Ave</td>\n",
       "      <td>37.774836</td>\n",
       "      <td>-122.446546</td>\n",
       "      <td>70</td>\n",
       "      <td>Central Ave at Fell St</td>\n",
       "      <td>37.773311</td>\n",
       "      <td>-122.444293</td>\n",
       "      <td>6638</td>\n",
       "      <td>Subscriber</td>\n",
       "      <td>1989</td>\n",
       "      <td>Other</td>\n",
       "      <td>True</td>\n",
       "      <td>30</td>\n",
       "    </tr>\n",
       "    <tr>\n",
       "      <th>3</th>\n",
       "      <td>0.44</td>\n",
       "      <td>2019-02-28 23:54:18.549</td>\n",
       "      <td>2019-03-01 00:20:44.074</td>\n",
       "      <td>7</td>\n",
       "      <td>Frank H Ogawa Plaza</td>\n",
       "      <td>37.804562</td>\n",
       "      <td>-122.271738</td>\n",
       "      <td>222</td>\n",
       "      <td>10th Ave at E 15th St</td>\n",
       "      <td>37.792714</td>\n",
       "      <td>-122.248780</td>\n",
       "      <td>4898</td>\n",
       "      <td>Subscriber</td>\n",
       "      <td>1974</td>\n",
       "      <td>Male</td>\n",
       "      <td>True</td>\n",
       "      <td>45</td>\n",
       "    </tr>\n",
       "    <tr>\n",
       "      <th>4</th>\n",
       "      <td>0.50</td>\n",
       "      <td>2019-02-28 23:49:58.632</td>\n",
       "      <td>2019-03-01 00:19:51.760</td>\n",
       "      <td>93</td>\n",
       "      <td>4th St at Mission Bay Blvd S</td>\n",
       "      <td>37.770407</td>\n",
       "      <td>-122.391198</td>\n",
       "      <td>323</td>\n",
       "      <td>Broadway at Kearny</td>\n",
       "      <td>37.798014</td>\n",
       "      <td>-122.405950</td>\n",
       "      <td>5200</td>\n",
       "      <td>Subscriber</td>\n",
       "      <td>1959</td>\n",
       "      <td>Male</td>\n",
       "      <td>True</td>\n",
       "      <td>60</td>\n",
       "    </tr>\n",
       "    <tr>\n",
       "      <th>...</th>\n",
       "      <td>...</td>\n",
       "      <td>...</td>\n",
       "      <td>...</td>\n",
       "      <td>...</td>\n",
       "      <td>...</td>\n",
       "      <td>...</td>\n",
       "      <td>...</td>\n",
       "      <td>...</td>\n",
       "      <td>...</td>\n",
       "      <td>...</td>\n",
       "      <td>...</td>\n",
       "      <td>...</td>\n",
       "      <td>...</td>\n",
       "      <td>...</td>\n",
       "      <td>...</td>\n",
       "      <td>...</td>\n",
       "      <td>...</td>\n",
       "    </tr>\n",
       "    <tr>\n",
       "      <th>174893</th>\n",
       "      <td>0.13</td>\n",
       "      <td>2019-02-01 00:04:49.724</td>\n",
       "      <td>2019-02-01 00:12:50.034</td>\n",
       "      <td>27</td>\n",
       "      <td>Beale St at Harrison St</td>\n",
       "      <td>37.788059</td>\n",
       "      <td>-122.391865</td>\n",
       "      <td>324</td>\n",
       "      <td>Union Square (Powell St at Post St)</td>\n",
       "      <td>37.788300</td>\n",
       "      <td>-122.408531</td>\n",
       "      <td>4832</td>\n",
       "      <td>Subscriber</td>\n",
       "      <td>1996</td>\n",
       "      <td>Male</td>\n",
       "      <td>True</td>\n",
       "      <td>23</td>\n",
       "    </tr>\n",
       "    <tr>\n",
       "      <th>174894</th>\n",
       "      <td>0.09</td>\n",
       "      <td>2019-02-01 00:05:34.744</td>\n",
       "      <td>2019-02-01 00:10:48.502</td>\n",
       "      <td>21</td>\n",
       "      <td>Montgomery St BART Station (Market St at 2nd St)</td>\n",
       "      <td>37.789625</td>\n",
       "      <td>-122.400811</td>\n",
       "      <td>66</td>\n",
       "      <td>3rd St at Townsend St</td>\n",
       "      <td>37.778742</td>\n",
       "      <td>-122.392741</td>\n",
       "      <td>4960</td>\n",
       "      <td>Subscriber</td>\n",
       "      <td>1984</td>\n",
       "      <td>Male</td>\n",
       "      <td>True</td>\n",
       "      <td>35</td>\n",
       "    </tr>\n",
       "    <tr>\n",
       "      <th>174895</th>\n",
       "      <td>0.04</td>\n",
       "      <td>2019-02-01 00:06:05.549</td>\n",
       "      <td>2019-02-01 00:08:27.220</td>\n",
       "      <td>278</td>\n",
       "      <td>The Alameda at Bush St</td>\n",
       "      <td>37.331932</td>\n",
       "      <td>-121.904888</td>\n",
       "      <td>277</td>\n",
       "      <td>Morrison Ave at Julian St</td>\n",
       "      <td>37.333658</td>\n",
       "      <td>-121.908586</td>\n",
       "      <td>3824</td>\n",
       "      <td>Subscriber</td>\n",
       "      <td>1990</td>\n",
       "      <td>Male</td>\n",
       "      <td>True</td>\n",
       "      <td>29</td>\n",
       "    </tr>\n",
       "    <tr>\n",
       "      <th>174896</th>\n",
       "      <td>0.04</td>\n",
       "      <td>2019-02-01 00:05:34.360</td>\n",
       "      <td>2019-02-01 00:07:54.287</td>\n",
       "      <td>220</td>\n",
       "      <td>San Pablo Ave at MLK Jr Way</td>\n",
       "      <td>37.811351</td>\n",
       "      <td>-122.273422</td>\n",
       "      <td>216</td>\n",
       "      <td>San Pablo Ave at 27th St</td>\n",
       "      <td>37.817827</td>\n",
       "      <td>-122.275698</td>\n",
       "      <td>5095</td>\n",
       "      <td>Subscriber</td>\n",
       "      <td>1988</td>\n",
       "      <td>Male</td>\n",
       "      <td>True</td>\n",
       "      <td>31</td>\n",
       "    </tr>\n",
       "    <tr>\n",
       "      <th>174897</th>\n",
       "      <td>0.08</td>\n",
       "      <td>2019-02-01 00:00:20.636</td>\n",
       "      <td>2019-02-01 00:04:52.058</td>\n",
       "      <td>24</td>\n",
       "      <td>Spear St at Folsom St</td>\n",
       "      <td>37.789677</td>\n",
       "      <td>-122.390428</td>\n",
       "      <td>37</td>\n",
       "      <td>2nd St at Folsom St</td>\n",
       "      <td>37.785000</td>\n",
       "      <td>-122.395936</td>\n",
       "      <td>1057</td>\n",
       "      <td>Subscriber</td>\n",
       "      <td>1989</td>\n",
       "      <td>Male</td>\n",
       "      <td>True</td>\n",
       "      <td>30</td>\n",
       "    </tr>\n",
       "  </tbody>\n",
       "</table>\n",
       "<p>174898 rows × 17 columns</p>\n",
       "</div>"
      ],
      "text/plain": [
       "        duration_hour              start_time                end_time  \\\n",
       "0               14.50 2019-02-28 17:32:10.145 2019-03-01 08:01:55.975   \n",
       "1               17.18 2019-02-28 12:13:13.218 2019-03-01 05:24:08.146   \n",
       "2               10.14 2019-02-28 17:54:26.010 2019-03-01 04:02:36.842   \n",
       "3                0.44 2019-02-28 23:54:18.549 2019-03-01 00:20:44.074   \n",
       "4                0.50 2019-02-28 23:49:58.632 2019-03-01 00:19:51.760   \n",
       "...               ...                     ...                     ...   \n",
       "174893           0.13 2019-02-01 00:04:49.724 2019-02-01 00:12:50.034   \n",
       "174894           0.09 2019-02-01 00:05:34.744 2019-02-01 00:10:48.502   \n",
       "174895           0.04 2019-02-01 00:06:05.549 2019-02-01 00:08:27.220   \n",
       "174896           0.04 2019-02-01 00:05:34.360 2019-02-01 00:07:54.287   \n",
       "174897           0.08 2019-02-01 00:00:20.636 2019-02-01 00:04:52.058   \n",
       "\n",
       "        start_station_id                                start_station_name  \\\n",
       "0                     21  Montgomery St BART Station (Market St at 2nd St)   \n",
       "1                     86                           Market St at Dolores St   \n",
       "2                    375                           Grove St at Masonic Ave   \n",
       "3                      7                               Frank H Ogawa Plaza   \n",
       "4                     93                      4th St at Mission Bay Blvd S   \n",
       "...                  ...                                               ...   \n",
       "174893                27                           Beale St at Harrison St   \n",
       "174894                21  Montgomery St BART Station (Market St at 2nd St)   \n",
       "174895               278                            The Alameda at Bush St   \n",
       "174896               220                       San Pablo Ave at MLK Jr Way   \n",
       "174897                24                             Spear St at Folsom St   \n",
       "\n",
       "        start_station_latitude  start_station_longitude  end_station_id  \\\n",
       "0                    37.789625              -122.400811              13   \n",
       "1                    37.769305              -122.426826               3   \n",
       "2                    37.774836              -122.446546              70   \n",
       "3                    37.804562              -122.271738             222   \n",
       "4                    37.770407              -122.391198             323   \n",
       "...                        ...                      ...             ...   \n",
       "174893               37.788059              -122.391865             324   \n",
       "174894               37.789625              -122.400811              66   \n",
       "174895               37.331932              -121.904888             277   \n",
       "174896               37.811351              -122.273422             216   \n",
       "174897               37.789677              -122.390428              37   \n",
       "\n",
       "                                    end_station_name  end_station_latitude  \\\n",
       "0                     Commercial St at Montgomery St             37.794231   \n",
       "1       Powell St BART Station (Market St at 4th St)             37.786375   \n",
       "2                             Central Ave at Fell St             37.773311   \n",
       "3                              10th Ave at E 15th St             37.792714   \n",
       "4                                 Broadway at Kearny             37.798014   \n",
       "...                                              ...                   ...   \n",
       "174893           Union Square (Powell St at Post St)             37.788300   \n",
       "174894                         3rd St at Townsend St             37.778742   \n",
       "174895                     Morrison Ave at Julian St             37.333658   \n",
       "174896                      San Pablo Ave at 27th St             37.817827   \n",
       "174897                           2nd St at Folsom St             37.785000   \n",
       "\n",
       "        end_station_longitude bike_id   user_type member_birth_year  \\\n",
       "0                 -122.402923    4902    Customer              1984   \n",
       "1                 -122.404904    5905    Customer              1972   \n",
       "2                 -122.444293    6638  Subscriber              1989   \n",
       "3                 -122.248780    4898  Subscriber              1974   \n",
       "4                 -122.405950    5200  Subscriber              1959   \n",
       "...                       ...     ...         ...               ...   \n",
       "174893            -122.408531    4832  Subscriber              1996   \n",
       "174894            -122.392741    4960  Subscriber              1984   \n",
       "174895            -121.908586    3824  Subscriber              1990   \n",
       "174896            -122.275698    5095  Subscriber              1988   \n",
       "174897            -122.395936    1057  Subscriber              1989   \n",
       "\n",
       "       member_gender  bike_share_for_all_trip  user_age  \n",
       "0               Male                     True        35  \n",
       "1               Male                     True        47  \n",
       "2              Other                     True        30  \n",
       "3               Male                     True        45  \n",
       "4               Male                     True        60  \n",
       "...              ...                      ...       ...  \n",
       "174893          Male                     True        23  \n",
       "174894          Male                     True        35  \n",
       "174895          Male                     True        29  \n",
       "174896          Male                     True        31  \n",
       "174897          Male                     True        30  \n",
       "\n",
       "[174898 rows x 17 columns]"
      ]
     },
     "execution_count": 18,
     "metadata": {},
     "output_type": "execute_result"
    }
   ],
   "source": [
    "df.reset_index(drop=True)"
   ]
  },
  {
   "cell_type": "code",
   "execution_count": 19,
   "metadata": {},
   "outputs": [
    {
     "data": {
      "text/html": [
       "<div>\n",
       "<style scoped>\n",
       "    .dataframe tbody tr th:only-of-type {\n",
       "        vertical-align: middle;\n",
       "    }\n",
       "\n",
       "    .dataframe tbody tr th {\n",
       "        vertical-align: top;\n",
       "    }\n",
       "\n",
       "    .dataframe thead th {\n",
       "        text-align: right;\n",
       "    }\n",
       "</style>\n",
       "<table border=\"1\" class=\"dataframe\">\n",
       "  <thead>\n",
       "    <tr style=\"text-align: right;\">\n",
       "      <th></th>\n",
       "      <th>duration_hour</th>\n",
       "      <th>start_time</th>\n",
       "      <th>end_time</th>\n",
       "      <th>start_station_id</th>\n",
       "      <th>start_station_name</th>\n",
       "      <th>start_station_latitude</th>\n",
       "      <th>start_station_longitude</th>\n",
       "      <th>end_station_id</th>\n",
       "      <th>end_station_name</th>\n",
       "      <th>end_station_latitude</th>\n",
       "      <th>end_station_longitude</th>\n",
       "      <th>bike_id</th>\n",
       "      <th>user_type</th>\n",
       "      <th>member_birth_year</th>\n",
       "      <th>member_gender</th>\n",
       "      <th>bike_share_for_all_trip</th>\n",
       "      <th>user_age</th>\n",
       "    </tr>\n",
       "  </thead>\n",
       "  <tbody>\n",
       "    <tr>\n",
       "      <th>0</th>\n",
       "      <td>0.11</td>\n",
       "      <td>2019-02-28 23:49:24.399</td>\n",
       "      <td>2019-02-28 23:55:50.284</td>\n",
       "      <td>6</td>\n",
       "      <td>The Embarcadero at Sansome St</td>\n",
       "      <td>37.804770</td>\n",
       "      <td>-122.403234</td>\n",
       "      <td>15</td>\n",
       "      <td>San Francisco Ferry Building (Harry Bridges Pl...</td>\n",
       "      <td>37.795392</td>\n",
       "      <td>-122.394203</td>\n",
       "      <td>6531</td>\n",
       "      <td>Customer</td>\n",
       "      <td>2000</td>\n",
       "      <td>Male</td>\n",
       "      <td>True</td>\n",
       "      <td>19</td>\n",
       "    </tr>\n",
       "    <tr>\n",
       "      <th>1</th>\n",
       "      <td>0.15</td>\n",
       "      <td>2019-02-28 22:58:06.628</td>\n",
       "      <td>2019-02-28 23:07:09.508</td>\n",
       "      <td>5</td>\n",
       "      <td>Powell St BART Station (Market St at 5th St)</td>\n",
       "      <td>37.783899</td>\n",
       "      <td>-122.408445</td>\n",
       "      <td>67</td>\n",
       "      <td>San Francisco Caltrain Station 2  (Townsend St...</td>\n",
       "      <td>37.776639</td>\n",
       "      <td>-122.395526</td>\n",
       "      <td>1936</td>\n",
       "      <td>Subscriber</td>\n",
       "      <td>1995</td>\n",
       "      <td>Male</td>\n",
       "      <td>True</td>\n",
       "      <td>24</td>\n",
       "    </tr>\n",
       "    <tr>\n",
       "      <th>2</th>\n",
       "      <td>0.10</td>\n",
       "      <td>2019-02-28 23:00:05.223</td>\n",
       "      <td>2019-02-28 23:06:21.515</td>\n",
       "      <td>58</td>\n",
       "      <td>Market St at 10th St</td>\n",
       "      <td>37.776619</td>\n",
       "      <td>-122.417385</td>\n",
       "      <td>21</td>\n",
       "      <td>Montgomery St BART Station (Market St at 2nd St)</td>\n",
       "      <td>37.789625</td>\n",
       "      <td>-122.400811</td>\n",
       "      <td>5731</td>\n",
       "      <td>Subscriber</td>\n",
       "      <td>1982</td>\n",
       "      <td>Male</td>\n",
       "      <td>True</td>\n",
       "      <td>37</td>\n",
       "    </tr>\n",
       "    <tr>\n",
       "      <th>3</th>\n",
       "      <td>0.09</td>\n",
       "      <td>2019-02-28 22:48:04.158</td>\n",
       "      <td>2019-02-28 22:53:29.926</td>\n",
       "      <td>5</td>\n",
       "      <td>Powell St BART Station (Market St at 5th St)</td>\n",
       "      <td>37.783899</td>\n",
       "      <td>-122.408445</td>\n",
       "      <td>67</td>\n",
       "      <td>San Francisco Caltrain Station 2  (Townsend St...</td>\n",
       "      <td>37.776639</td>\n",
       "      <td>-122.395526</td>\n",
       "      <td>5012</td>\n",
       "      <td>Subscriber</td>\n",
       "      <td>1990</td>\n",
       "      <td>Male</td>\n",
       "      <td>True</td>\n",
       "      <td>29</td>\n",
       "    </tr>\n",
       "    <tr>\n",
       "      <th>4</th>\n",
       "      <td>1.39</td>\n",
       "      <td>2019-02-28 21:22:51.632</td>\n",
       "      <td>2019-02-28 22:46:10.114</td>\n",
       "      <td>6</td>\n",
       "      <td>The Embarcadero at Sansome St</td>\n",
       "      <td>37.804770</td>\n",
       "      <td>-122.403234</td>\n",
       "      <td>16</td>\n",
       "      <td>Steuart St at Market St</td>\n",
       "      <td>37.794130</td>\n",
       "      <td>-122.394430</td>\n",
       "      <td>5149</td>\n",
       "      <td>Customer</td>\n",
       "      <td>1987</td>\n",
       "      <td>Male</td>\n",
       "      <td>True</td>\n",
       "      <td>32</td>\n",
       "    </tr>\n",
       "  </tbody>\n",
       "</table>\n",
       "</div>"
      ],
      "text/plain": [
       "   duration_hour              start_time                end_time  \\\n",
       "0           0.11 2019-02-28 23:49:24.399 2019-02-28 23:55:50.284   \n",
       "1           0.15 2019-02-28 22:58:06.628 2019-02-28 23:07:09.508   \n",
       "2           0.10 2019-02-28 23:00:05.223 2019-02-28 23:06:21.515   \n",
       "3           0.09 2019-02-28 22:48:04.158 2019-02-28 22:53:29.926   \n",
       "4           1.39 2019-02-28 21:22:51.632 2019-02-28 22:46:10.114   \n",
       "\n",
       "   start_station_id                            start_station_name  \\\n",
       "0                 6                 The Embarcadero at Sansome St   \n",
       "1                 5  Powell St BART Station (Market St at 5th St)   \n",
       "2                58                          Market St at 10th St   \n",
       "3                 5  Powell St BART Station (Market St at 5th St)   \n",
       "4                 6                 The Embarcadero at Sansome St   \n",
       "\n",
       "   start_station_latitude  start_station_longitude  end_station_id  \\\n",
       "0               37.804770              -122.403234              15   \n",
       "1               37.783899              -122.408445              67   \n",
       "2               37.776619              -122.417385              21   \n",
       "3               37.783899              -122.408445              67   \n",
       "4               37.804770              -122.403234              16   \n",
       "\n",
       "                                    end_station_name  end_station_latitude  \\\n",
       "0  San Francisco Ferry Building (Harry Bridges Pl...             37.795392   \n",
       "1  San Francisco Caltrain Station 2  (Townsend St...             37.776639   \n",
       "2   Montgomery St BART Station (Market St at 2nd St)             37.789625   \n",
       "3  San Francisco Caltrain Station 2  (Townsend St...             37.776639   \n",
       "4                            Steuart St at Market St             37.794130   \n",
       "\n",
       "   end_station_longitude bike_id   user_type member_birth_year member_gender  \\\n",
       "0            -122.394203    6531    Customer              2000          Male   \n",
       "1            -122.395526    1936  Subscriber              1995          Male   \n",
       "2            -122.400811    5731  Subscriber              1982          Male   \n",
       "3            -122.395526    5012  Subscriber              1990          Male   \n",
       "4            -122.394430    5149    Customer              1987          Male   \n",
       "\n",
       "   bike_share_for_all_trip  user_age  \n",
       "0                     True        19  \n",
       "1                     True        24  \n",
       "2                     True        37  \n",
       "3                     True        29  \n",
       "4                     True        32  "
      ]
     },
     "execution_count": 19,
     "metadata": {},
     "output_type": "execute_result"
    }
   ],
   "source": [
    "## The most 15 start &end stations that have high customers density \n",
    "start_st = df['start_station_name'].value_counts()[:15].index\n",
    "end_st = df['end_station_name'].value_counts()[:15].index\n",
    "\n",
    "df_15 = df.loc[(df['start_station_name'].isin(start_st)) & (df['end_station_name'].isin(end_st))]\n",
    "df_15 = df_15.reset_index(drop=True)\n",
    "df_15.head()"
   ]
  },
  {
   "cell_type": "markdown",
   "metadata": {},
   "source": [
    "### What is the structure of your dataset?\n",
    "\n",
    "There are 174,898 trips recorded with complete data in the dataset , these data divided to four dimensions ( trip time , start and end location , bike data and user data ).\n",
    "the data differ between numeric and categorical .\n"
   ]
  },
  {
   "cell_type": "markdown",
   "metadata": {},
   "source": [
    "### What is/are the main feature(s) of interest in your dataset?\n",
    "I will investigate the data in the locations that have the most density as this will help in marketing specially in ( customer targeting & offers ) to increase sales ."
   ]
  },
  {
   "cell_type": "markdown",
   "metadata": {},
   "source": [
    "### What features in the dataset do you think will help support your investigation into your feature(s) of interest?\n",
    "\n",
    "The main Variable that will help me is the locations that has the most density and then I will investigate the relation between them and the other variables .\n",
    "\n",
    "So That , in cleaning I choosed in new dataset with the data that include the most 15 start and end stations that have density\n"
   ]
  },
  {
   "cell_type": "markdown",
   "metadata": {},
   "source": [
    "<a id='Univariate'></a>\n",
    "## 1 - Univariate Exploration\n",
    "\n",
    "I will check :   \n",
    "    * All locations and the most 15 start and end stations that has high density.  \n",
    "    * The customer characteristics and the common trip duration for both of them  and see if there is difference or the same distribution.  \n",
    "    "
   ]
  },
  {
   "cell_type": "markdown",
   "metadata": {},
   "source": [
    "\n",
    "\n",
    "### 1.1 - Locations\n",
    "I'll start by looking at the main variable of interest: \n",
    " Then the most 15 start & end stations that have high customers density  .\n",
    "\n",
    "\n"
   ]
  },
  {
   "cell_type": "markdown",
   "metadata": {},
   "source": [
    "####  What is the distribution of The most 15 start & end stations that have high customers density ? \n"
   ]
  },
  {
   "cell_type": "code",
   "execution_count": 20,
   "metadata": {},
   "outputs": [
    {
     "data": {
      "image/png": "[encoded data removed]",
      "text/plain": [
       "<Figure size 720x720 with 2 Axes>"
      ]
     },
     "metadata": {
      "needs_background": "light"
     },
     "output_type": "display_data"
    }
   ],
   "source": [
    "## The most 15 start &end stations that have high customers density \n",
    "plt.figure(figsize = [10, 10])\n",
    "base_color = sb.color_palette()[0]\n",
    "\n",
    "plt.subplot (2,2,1)\n",
    "sb.countplot(data=df_15, x='start_station_id', color=base_color);\n",
    "\n",
    "plt.subplot (2,2,2)\n",
    "sb.countplot(data=df_15, x='end_station_id', color=base_color);"
   ]
  },
  {
   "cell_type": "markdown",
   "metadata": {},
   "source": [
    "#### Observation : it seems random ."
   ]
  },
  {
   "cell_type": "markdown",
   "metadata": {},
   "source": [
    "### 1.2 - Customers characteristics\n"
   ]
  },
  {
   "cell_type": "markdown",
   "metadata": {},
   "source": [
    "####  What are Customers characteristics (all locations) ?\n",
    "Let's check users characteristics for all locations "
   ]
  },
  {
   "cell_type": "code",
   "execution_count": 21,
   "metadata": {},
   "outputs": [
    {
     "data": {
      "text/plain": [
       "Text(0.5, 0, 'user_age')"
      ]
     },
     "execution_count": 21,
     "metadata": {},
     "output_type": "execute_result"
    },
    {
     "data": {
      "image/png": "[encoded data removed]",
      "text/plain": [
       "<Figure size 720x720 with 2 Axes>"
      ]
     },
     "metadata": {
      "needs_background": "light"
     },
     "output_type": "display_data"
    },
    {
     "data": {
      "image/png": "[encoded data removed]",
      "text/plain": [
       "<Figure size 720x360 with 1 Axes>"
      ]
     },
     "metadata": {
      "needs_background": "light"
     },
     "output_type": "display_data"
    }
   ],
   "source": [
    "## user related data (user_type ,member_gender ) for all locations\n",
    "plt.figure(figsize = [10, 10])\n",
    "base_color = sb.color_palette()[0]\n",
    "\n",
    "\n",
    "plt.subplot (2,2,1)\n",
    "freq_c = df['user_type'].value_counts()\n",
    "gen_order_c = freq_c.index  \n",
    "sb.countplot(data=df, x='user_type', color=base_color, order=gen_order_c) ;\n",
    "plt.xticks(rotation=90)\n",
    "\n",
    "\n",
    "plt.subplot (2,2,2)\n",
    "freq_d = df['member_gender'].value_counts()\n",
    "gen_order_d = freq_d.index  \n",
    "sb.countplot(data=df, x='member_gender', color=base_color, order=gen_order_d);\n",
    "plt.xticks(rotation=90)\n",
    "\n",
    "\n",
    "log_binsize = 0.025\n",
    "bins = 10 ** np.arange(0.5, np.log10(df['user_age'].max())+log_binsize, log_binsize)\n",
    "\n",
    "plt.figure(figsize = [10, 5])\n",
    "bins = np.arange(0, df['user_age'].max()+10, 10)\n",
    "plt.hist(data=df, x='user_age', color=base_color, bins = bins) ;\n",
    "plt.xlabel('user_age')"
   ]
  },
  {
   "cell_type": "markdown",
   "metadata": {},
   "source": [
    "There's a long tail in the distribution, so let's put it on a log scale instead"
   ]
  },
  {
   "cell_type": "code",
   "execution_count": 22,
   "metadata": {},
   "outputs": [
    {
     "data": {
      "text/plain": [
       "count    5.242785\n",
       "mean     1.533652\n",
       "std      1.000380\n",
       "min      1.255273\n",
       "25%      1.431364\n",
       "50%      1.505150\n",
       "75%      1.591065\n",
       "max      2.071882\n",
       "Name: user_age, dtype: float64"
      ]
     },
     "execution_count": 22,
     "metadata": {},
     "output_type": "execute_result"
    }
   ],
   "source": [
    "## describe the user age\n",
    "np.log10(df['user_age'].describe())"
   ]
  },
  {
   "cell_type": "code",
   "execution_count": 23,
   "metadata": {},
   "outputs": [
    {
     "data": {
      "image/png": "[encoded data removed]",
      "text/plain": [
       "<Figure size 720x360 with 1 Axes>"
      ]
     },
     "metadata": {
      "needs_background": "light"
     },
     "output_type": "display_data"
    }
   ],
   "source": [
    "plt.figure(figsize=[10, 5])\n",
    "plt.hist(data = df, x = 'user_age', bins = bins)\n",
    "plt.xscale('log')\n",
    "plt.xticks([7.5 ,10, 15, 25, 40, 75 , 115 ], [7.5 ,10, 15, 25, 40, 75 , 115 ])\n",
    "plt.xlim((7.5,120))\n",
    "plt.xlabel('user_age')\n",
    "plt.show()"
   ]
  },
  {
   "cell_type": "markdown",
   "metadata": {},
   "source": [
    "#### Observation The Common users characteristics for all locations are  ( Type : Subscribers , Gender : Male , Age : from 20 to 40 )"
   ]
  },
  {
   "cell_type": "markdown",
   "metadata": {},
   "source": [
    "\n",
    "#### What are Customers characteristics (high density locations) ?\n",
    "Next up, let's check the customers characteristics used bikes for most 15 start and end stations that have high density ."
   ]
  },
  {
   "cell_type": "code",
   "execution_count": 24,
   "metadata": {},
   "outputs": [
    {
     "data": {
      "text/plain": [
       "Text(0.5, 0, 'user_age')"
      ]
     },
     "execution_count": 24,
     "metadata": {},
     "output_type": "execute_result"
    },
    {
     "data": {
      "image/png": "[encoded data removed]",
      "text/plain": [
       "<Figure size 720x720 with 2 Axes>"
      ]
     },
     "metadata": {
      "needs_background": "light"
     },
     "output_type": "display_data"
    },
    {
     "data": {
      "image/png": "[encoded data removed]",
      "text/plain": [
       "<Figure size 720x360 with 1 Axes>"
      ]
     },
     "metadata": {
      "needs_background": "light"
     },
     "output_type": "display_data"
    }
   ],
   "source": [
    "## The user related data (user_type ,member_gender ) for most 15 start and end stations that have high density.\n",
    "plt.figure(figsize = [10, 10])\n",
    "base_color = sb.color_palette()[0]\n",
    "\n",
    "\n",
    "plt.subplot (2,2,1)\n",
    "freq_e = df_15['user_type'].value_counts()\n",
    "gen_order_e = freq_e.index  \n",
    "sb.countplot(data=df_15, x='user_type', color=base_color, order=gen_order_e) ;\n",
    "plt.xticks(rotation=90)\n",
    "\n",
    "\n",
    "plt.subplot (2,2,2)\n",
    "freq_f = df_15['member_gender'].value_counts()\n",
    "gen_order_f = freq_f.index  \n",
    "sb.countplot(data=df_15, x='member_gender', color=base_color, order=gen_order_f);\n",
    "plt.xticks(rotation=90)\n",
    "\n",
    "\n",
    "plt.figure(figsize = [10, 5])\n",
    "bins = np.arange(0, df_15['user_age'].max()+10, 10)\n",
    "plt.hist(data=df_15, x='user_age', color=base_color, bins = bins) ;\n",
    "plt.xlabel('user_age')\n"
   ]
  },
  {
   "cell_type": "markdown",
   "metadata": {},
   "source": [
    "Again there's a long tail in the distribution, so let's put it on a log scale instead"
   ]
  },
  {
   "cell_type": "code",
   "execution_count": 25,
   "metadata": {},
   "outputs": [
    {
     "data": {
      "text/plain": [
       "count    4.082570\n",
       "mean     1.545147\n",
       "std      1.019847\n",
       "min      1.255273\n",
       "25%      1.447158\n",
       "50%      1.518514\n",
       "75%      1.612784\n",
       "max      1.995635\n",
       "Name: user_age, dtype: float64"
      ]
     },
     "execution_count": 25,
     "metadata": {},
     "output_type": "execute_result"
    }
   ],
   "source": [
    "## describe the user age\n",
    "np.log10(df_15['user_age'].describe())"
   ]
  },
  {
   "cell_type": "code",
   "execution_count": 26,
   "metadata": {},
   "outputs": [
    {
     "data": {
      "image/png": "[encoded data removed]",
      "text/plain": [
       "<Figure size 720x360 with 1 Axes>"
      ]
     },
     "metadata": {
      "needs_background": "light"
     },
     "output_type": "display_data"
    }
   ],
   "source": [
    "## log scale\n",
    "log_binsize = 0.025\n",
    "bins = 10 ** np.arange(0.5, np.log10(df_15['user_age'].max())+log_binsize, log_binsize)\n",
    "\n",
    "plt.figure(figsize=[10, 5])\n",
    "plt.hist(data = df_15, x = 'user_age', bins = bins)\n",
    "plt.xscale('log')\n",
    "plt.xticks([7.5 ,10, 15, 25, 40, 75 , 115 ], [7.5 ,10, 15, 25, 40, 75 , 115 ])\n",
    "plt.xlim((7.5,120))\n",
    "plt.xlabel('user_age')\n",
    "plt.show()"
   ]
  },
  {
   "cell_type": "markdown",
   "metadata": {},
   "source": [
    "#### Observation : The users characterisitics in common even in all locations or the most density ( Type : Subscribers , Gender : Male , Age : from 20 to 40 )"
   ]
  },
  {
   "cell_type": "markdown",
   "metadata": {},
   "source": [
    "###  Trip duration"
   ]
  },
  {
   "cell_type": "markdown",
   "metadata": {},
   "source": [
    "#### What is the common trip duration for all locations ?"
   ]
  },
  {
   "cell_type": "code",
   "execution_count": 27,
   "metadata": {
    "scrolled": true
   },
   "outputs": [
    {
     "data": {
      "text/plain": [
       "<AxesSubplot:xlabel='duration_hour', ylabel='Count'>"
      ]
     },
     "execution_count": 27,
     "metadata": {},
     "output_type": "execute_result"
    },
    {
     "data": {
      "image/png": "[encoded data removed]",
      "text/plain": [
       "<Figure size 432x288 with 1 Axes>"
      ]
     },
     "metadata": {
      "needs_background": "light"
     },
     "output_type": "display_data"
    }
   ],
   "source": [
    "## Check for all locations\n",
    "bin_edges = np.arange(0, df['duration_hour'].max()+0.25,0.25)\n",
    "sb.histplot(df['duration_hour'], bins = bin_edges)\n"
   ]
  },
  {
   "cell_type": "markdown",
   "metadata": {},
   "source": [
    "There's a long tail in the distribution, so let's put it on a log scale instead"
   ]
  },
  {
   "cell_type": "code",
   "execution_count": 28,
   "metadata": {},
   "outputs": [
    {
     "data": {
      "text/plain": [
       "count    5.242785\n",
       "mean    -0.708713\n",
       "std     -0.340800\n",
       "min     -1.698970\n",
       "25%     -1.045757\n",
       "50%     -0.853872\n",
       "75%     -0.657577\n",
       "max      1.370883\n",
       "Name: duration_hour, dtype: float64"
      ]
     },
     "execution_count": 28,
     "metadata": {},
     "output_type": "execute_result"
    }
   ],
   "source": [
    "## log scale\n",
    "np.log10(df['duration_hour'].describe())"
   ]
  },
  {
   "cell_type": "code",
   "execution_count": 29,
   "metadata": {},
   "outputs": [
    {
     "data": {
      "image/png": "[encoded data removed]",
      "text/plain": [
       "<Figure size 720x360 with 1 Axes>"
      ]
     },
     "metadata": {
      "needs_background": "light"
     },
     "output_type": "display_data"
    }
   ],
   "source": [
    "log_binsize = 0.25\n",
    "bins = 10 ** np.arange(0, np.log10(df['duration_hour'].max())+log_binsize, log_binsize)\n",
    "\n",
    "\n",
    "plt.figure(figsize=[10, 5])\n",
    "plt.hist(data = df, x = 'duration_hour', bins = bins)\n",
    "plt.xscale('log')\n",
    "plt.xticks([0.75 ,1.5,3,6,12,24], [0.75 ,1.5,3,6,12,24])\n",
    "plt.xlabel('duration_hour')\n",
    "plt.show()"
   ]
  },
  {
   "cell_type": "markdown",
   "metadata": {},
   "source": [
    "#### What is the common trip duration for locations with most density ?"
   ]
  },
  {
   "cell_type": "code",
   "execution_count": 30,
   "metadata": {
    "scrolled": true
   },
   "outputs": [
    {
     "data": {
      "text/plain": [
       "<AxesSubplot:xlabel='duration_hour', ylabel='Count'>"
      ]
     },
     "execution_count": 30,
     "metadata": {},
     "output_type": "execute_result"
    },
    {
     "data": {
      "image/png": "[encoded data removed]",
      "text/plain": [
       "<Figure size 432x288 with 1 Axes>"
      ]
     },
     "metadata": {
      "needs_background": "light"
     },
     "output_type": "display_data"
    }
   ],
   "source": [
    "## Check for all locations\n",
    "bin_edges = np.arange(0, df_15['duration_hour'].max()+0.25,0.25)\n",
    "sb.histplot(df_15['duration_hour'], bins = bin_edges)"
   ]
  },
  {
   "cell_type": "markdown",
   "metadata": {},
   "source": [
    "Again There's a long tail in the distribution, so let's put it on a log scale instead"
   ]
  },
  {
   "cell_type": "code",
   "execution_count": 31,
   "metadata": {},
   "outputs": [
    {
     "data": {
      "text/plain": [
       "count    4.082570\n",
       "mean    -0.747457\n",
       "std     -0.410514\n",
       "min     -1.698970\n",
       "25%     -1.000000\n",
       "50%     -0.853872\n",
       "75%     -0.744727\n",
       "max      1.225051\n",
       "Name: duration_hour, dtype: float64"
      ]
     },
     "execution_count": 31,
     "metadata": {},
     "output_type": "execute_result"
    }
   ],
   "source": [
    "## log scale\n",
    "np.log10(df_15['duration_hour'].describe())"
   ]
  },
  {
   "cell_type": "code",
   "execution_count": 32,
   "metadata": {},
   "outputs": [
    {
     "data": {
      "image/png": "[encoded data removed]",
      "text/plain": [
       "<Figure size 720x360 with 1 Axes>"
      ]
     },
     "metadata": {
      "needs_background": "light"
     },
     "output_type": "display_data"
    }
   ],
   "source": [
    "log_binsize = 0.25\n",
    "bins = 10 ** np.arange(0, np.log10(df_15['duration_hour'].max())+log_binsize, log_binsize)\n",
    "\n",
    "\n",
    "plt.figure(figsize=[10, 5])\n",
    "plt.hist(data = df_15, x = 'duration_hour', bins = bins)\n",
    "plt.xscale('log')\n",
    "plt.xticks([0.75 ,1.5,3,6,12,24], [0.75 ,1.5,3,6,12,24])\n",
    "plt.xlabel('duration_hour')\n",
    "plt.show()"
   ]
  },
  {
   "cell_type": "markdown",
   "metadata": {},
   "source": [
    "#### Observation : The common trip duration is from 1 to 2 hours"
   ]
  },
  {
   "cell_type": "markdown",
   "metadata": {},
   "source": [
    "### What did I found ?\n",
    "\n",
    "#### Observation :\n",
    "* As conclusion our Target customer characterisitics  ( Type : Subscribers then customers , Gender : Male then female , Age : from 20 to 40 ) and the common duration they use the bikes are from 1 to 2 hours then 2 to 5 hours."
   ]
  },
  {
   "cell_type": "markdown",
   "metadata": {},
   "source": [
    "<a id='Bivariate'></a>\n",
    "\n",
    "## 2- Bivariate Exploration\n",
    "\n",
    "let's dig deep in the common customers characteristics and trip duration for each station even start or end to check if there is any variance."
   ]
  },
  {
   "cell_type": "markdown",
   "metadata": {},
   "source": [
    "#### What is the user type for each station ?"
   ]
  },
  {
   "cell_type": "code",
   "execution_count": 33,
   "metadata": {},
   "outputs": [
    {
     "data": {
      "text/plain": [
       "<AxesSubplot:xlabel='end_station_id', ylabel='count'>"
      ]
     },
     "execution_count": 33,
     "metadata": {},
     "output_type": "execute_result"
    },
    {
     "data": {
      "image/png": "[encoded data removed]",
      "text/plain": [
       "<Figure size 720x720 with 2 Axes>"
      ]
     },
     "metadata": {
      "needs_background": "light"
     },
     "output_type": "display_data"
    }
   ],
   "source": [
    "## Sub Plot the user_type for each station\n",
    "plt.figure(figsize = [10, 10])\n",
    "\n",
    "plt.subplot (2,2,1)\n",
    "freq_g = df_15['start_station_id'].value_counts()\n",
    "gen_order_g = freq_g.index  \n",
    "sb.countplot(data = df_15, x = 'start_station_id', hue = 'user_type',order=gen_order_g)\n",
    "\n",
    "plt.subplot (2,2,2)\n",
    "freq_h = df_15['end_station_id'].value_counts()\n",
    "gen_order_h = freq_h.index  \n",
    "sb.countplot(data = df_15, x = 'end_station_id', hue = 'user_type',order=gen_order_h)\n"
   ]
  },
  {
   "cell_type": "markdown",
   "metadata": {},
   "source": [
    "#### Observation : same as common user type above Subscriber then Customer ."
   ]
  },
  {
   "cell_type": "markdown",
   "metadata": {},
   "source": [
    "#### What is the user gender for each station ?"
   ]
  },
  {
   "cell_type": "code",
   "execution_count": 34,
   "metadata": {},
   "outputs": [
    {
     "data": {
      "text/plain": [
       "<AxesSubplot:xlabel='end_station_id', ylabel='count'>"
      ]
     },
     "execution_count": 34,
     "metadata": {},
     "output_type": "execute_result"
    },
    {
     "data": {
      "image/png": "[encoded data removed]",
      "text/plain": [
       "<Figure size 720x720 with 2 Axes>"
      ]
     },
     "metadata": {
      "needs_background": "light"
     },
     "output_type": "display_data"
    }
   ],
   "source": [
    "## Sub Plot the user_type for each station\n",
    "plt.figure(figsize = [10, 10])\n",
    "\n",
    "plt.subplot (2,2,1)\n",
    "freq_i = df_15['start_station_id'].value_counts()\n",
    "gen_order_i = freq_i.index  \n",
    "sb.countplot(data = df_15, x = 'start_station_id', hue = 'member_gender',order=gen_order_i)\n",
    "\n",
    "plt.subplot (2,2,2)\n",
    "freq_j = df_15['end_station_id'].value_counts()\n",
    "gen_order_j = freq_j.index  \n",
    "sb.countplot(data = df_15, x = 'end_station_id', hue = 'member_gender',order=gen_order_j)\n"
   ]
  },
  {
   "cell_type": "markdown",
   "metadata": {},
   "source": [
    "#### Observation : same as common user gender above Male is the common then female the other ."
   ]
  },
  {
   "cell_type": "markdown",
   "metadata": {},
   "source": [
    "#### What is the avg. user age for each station ?"
   ]
  },
  {
   "cell_type": "code",
   "execution_count": 35,
   "metadata": {},
   "outputs": [
    {
     "data": {
      "text/plain": [
       "Text(0, 0.5, 'Avg user_age')"
      ]
     },
     "execution_count": 35,
     "metadata": {},
     "output_type": "execute_result"
    },
    {
     "data": {
      "image/png": "[encoded data removed]",
      "text/plain": [
       "<Figure size 720x720 with 2 Axes>"
      ]
     },
     "metadata": {
      "needs_background": "light"
     },
     "output_type": "display_data"
    }
   ],
   "source": [
    "## Sub Plot the Avg user age for each station\n",
    "plt.figure(figsize = [10, 10])\n",
    "\n",
    "plt.subplot (2,2,1)\n",
    "freq_k = df_15['start_station_id'].value_counts()\n",
    "gen_order_k = freq_k.index \n",
    "sb.pointplot(data=df_15, x='start_station_id', y='user_age', color=base_color, ci='sd', linestyles=\"\" , order=gen_order_k)\n",
    "plt.xticks(rotation=15);\n",
    "plt.ylabel('Avg user_age')\n",
    "\n",
    "plt.subplot (2,2,2)\n",
    "freq_l = df_15['end_station_id'].value_counts()\n",
    "gen_order_l = freq_l.index \n",
    "sb.pointplot(data=df_15, x='end_station_id', y='user_age', color=base_color, ci='sd', linestyles=\"\" , order=gen_order_l)\n",
    "plt.xticks(rotation=15);\n",
    "plt.ylabel('Avg user_age')"
   ]
  },
  {
   "cell_type": "markdown",
   "metadata": {},
   "source": [
    "#### Observation : for each station same as common from 25 to 40 no bigh change ."
   ]
  },
  {
   "cell_type": "markdown",
   "metadata": {},
   "source": [
    "#### What is the trip duration for each stationin common ?"
   ]
  },
  {
   "cell_type": "code",
   "execution_count": 36,
   "metadata": {},
   "outputs": [
    {
     "data": {
      "image/png": "[encoded data removed]",
      "text/plain": [
       "<Figure size 648x1080 with 15 Axes>"
      ]
     },
     "metadata": {
      "needs_background": "light"
     },
     "output_type": "display_data"
    }
   ],
   "source": [
    "## Facetating the trip duration for each start station\n",
    "bin_edges = np.arange(0, 10+0.5, 0.5)\n",
    "g = sb.FacetGrid(data = df_15, col = 'start_station_id', col_wrap=3, sharey=False)\n",
    "g.map(plt.hist, 'duration_hour', bins = bin_edges);"
   ]
  },
  {
   "cell_type": "code",
   "execution_count": 37,
   "metadata": {},
   "outputs": [
    {
     "data": {
      "image/png": "[encoded data removed]",
      "text/plain": [
       "<Figure size 648x1080 with 15 Axes>"
      ]
     },
     "metadata": {
      "needs_background": "light"
     },
     "output_type": "display_data"
    }
   ],
   "source": [
    "## Facetating the trip duration for each end station\n",
    "bin_edges = np.arange(0, 10+0.5, 0.5)\n",
    "g = sb.FacetGrid(data = df_15, col = 'end_station_id', col_wrap=3, sharey=False)\n",
    "g.map(plt.hist, 'duration_hour', bins = bin_edges);"
   ]
  },
  {
   "cell_type": "markdown",
   "metadata": {},
   "source": [
    "#### What is trip duration and age ?"
   ]
  },
  {
   "cell_type": "code",
   "execution_count": 38,
   "metadata": {},
   "outputs": [
    {
     "data": {
      "text/plain": [
       "Text(0, 0.5, 'Trip duration / hour')"
      ]
     },
     "execution_count": 38,
     "metadata": {},
     "output_type": "execute_result"
    },
    {
     "data": {
      "image/png": "[encoded data removed]",
      "text/plain": [
       "<Figure size 432x288 with 1 Axes>"
      ]
     },
     "metadata": {
      "needs_background": "light"
     },
     "output_type": "display_data"
    }
   ],
   "source": [
    "sb.regplot(data = df_15, x = 'user_age', y = 'duration_hour' , fit_reg= False, truncate=False, scatter_kws={'alpha':1/20});\n",
    "plt.xlabel('user_age')\n",
    "plt.ylabel('Trip duration / hour')\n"
   ]
  },
  {
   "cell_type": "markdown",
   "metadata": {},
   "source": [
    "#### Observation : the age from 20 to 40 use the bikes more than 2 hours and reach to 17 hours"
   ]
  },
  {
   "cell_type": "markdown",
   "metadata": {},
   "source": [
    "### What I found ?\n",
    "\n",
    "### Observation :\n",
    "* As conclusion after going deep in each stations that have most denisty we have found that each one have the same customer and trip characteristics of the all data we found above.\n",
    "* Our Target customer characterisitics  ( Type : Subscribers then customers , Gender : Male then female , Age : from 20 to 40 ). \n",
    "* The common duration they use the bikes are from 1 to 2 hours then 2 to 5 hours.\n",
    "* the age from 20 to 40 use the bikes more than 2 hours and reach to 17 hours."
   ]
  },
  {
   "cell_type": "markdown",
   "metadata": {},
   "source": [
    "<a id='Multivariate'></a>\n",
    "## 3 - Multivariate Exploration"
   ]
  },
  {
   "cell_type": "markdown",
   "metadata": {},
   "source": [
    "Let's see more relations between our data"
   ]
  },
  {
   "cell_type": "markdown",
   "metadata": {},
   "source": [
    "####  What are start and end locations user type and age in multivariate ?"
   ]
  },
  {
   "cell_type": "code",
   "execution_count": 39,
   "metadata": {},
   "outputs": [
    {
     "data": {
      "text/plain": [
       "<AxesSubplot:xlabel='start_station_id', ylabel='user_age'>"
      ]
     },
     "execution_count": 39,
     "metadata": {},
     "output_type": "execute_result"
    },
    {
     "data": {
      "image/png": "[encoded data removed]",
      "text/plain": [
       "<Figure size 720x720 with 2 Axes>"
      ]
     },
     "metadata": {
      "needs_background": "light"
     },
     "output_type": "display_data"
    }
   ],
   "source": [
    "## Sub Plot For start and end locations (user type and age)\n",
    "plt.figure(figsize = [10, 10])\n",
    "\n",
    "plt.subplot (2,2,1)\n",
    "freq_k = df_15['start_station_id'].value_counts()\n",
    "gen_order_k = freq_k.index \n",
    "sb.pointplot(data = df_15, x = 'start_station_id', y ='user_age', hue = 'user_type',dodge = 0.3, linestyles = \"\" , order = gen_order_k)\n",
    "\n",
    "plt.subplot (2,2,2)\n",
    "freq_l = df_15['end_station_id'].value_counts()\n",
    "gen_order_l = freq_l.index \n",
    "sb.pointplot(data = df_15, x = 'start_station_id', y ='user_age', hue = 'user_type',dodge = 0.3, linestyles = \"\" ,order = gen_order_l)\n"
   ]
  },
  {
   "cell_type": "markdown",
   "metadata": {},
   "source": [
    "#### What are start and end locations User gender and age in multivariate ?"
   ]
  },
  {
   "cell_type": "code",
   "execution_count": 40,
   "metadata": {},
   "outputs": [
    {
     "data": {
      "text/plain": [
       "<AxesSubplot:xlabel='start_station_id', ylabel='user_age'>"
      ]
     },
     "execution_count": 40,
     "metadata": {},
     "output_type": "execute_result"
    },
    {
     "data": {
      "image/png": "[encoded data removed]",
      "text/plain": [
       "<Figure size 720x720 with 2 Axes>"
      ]
     },
     "metadata": {
      "needs_background": "light"
     },
     "output_type": "display_data"
    }
   ],
   "source": [
    "## Sub Plot For start and end locations (User gender and age)\n",
    "plt.figure(figsize = [10, 10])\n",
    "\n",
    "plt.subplot (2,2,1)\n",
    "freq_k = df_15['start_station_id'].value_counts()\n",
    "gen_order_k = freq_k.index \n",
    "sb.pointplot(data = df_15, x = 'start_station_id', y ='user_age', hue = 'member_gender',dodge = 0.3, linestyles = \"\" , order = gen_order_k)\n",
    "\n",
    "plt.subplot (2,2,2)\n",
    "freq_l = df_15['end_station_id'].value_counts()\n",
    "gen_order_l = freq_l.index \n",
    "sb.pointplot(data = df_15, x = 'start_station_id', y ='user_age', hue = 'member_gender',dodge = 0.3, linestyles = \"\" ,order = gen_order_l)\n"
   ]
  },
  {
   "cell_type": "markdown",
   "metadata": {},
   "source": [
    "#### Observation : Confim our observation above"
   ]
  },
  {
   "cell_type": "markdown",
   "metadata": {},
   "source": [
    "<a id='Overall Observation'></a>\n",
    "## 4 - Overall Observation\n",
    " \n",
    "The targeted customers characteristics :    \n",
    "\n",
    "1- Gender : Male   .    \n",
    "2- Type : Subscriber  .   \n",
    "3- Age : 20 to 40 .    \n",
    "4-  Most common trip hour from 1 to 2 hours .     \n",
    "\n",
    "we checked and find these conclusion throw our journey thus we could get use of these by :\n",
    "* For low density customers stations we can use these targeted customers in marketing and offers which will increase the revenue of the company.    \n",
    "* For high density customers stations if there still work capicity available we can increase revenues by 2 ways :   \n",
    "1- Offers for females between 20 to 40 years even for subscriber or customer type.   \n",
    "2- More engagement for targeted customer with above characteristics ."
   ]
  },
  {
   "cell_type": "markdown",
   "metadata": {},
   "source": [
    "## Tahnks :)"
   ]
  }
 ],
 "metadata": {
  "kernelspec": {
   "display_name": "Python 3",
   "language": "python",
   "name": "python3"
  },
  "language_info": {
   "codemirror_mode": {
    "name": "ipython",
    "version": 3
   },
   "file_extension": ".py",
   "mimetype": "text/x-python",
   "name": "python",
   "nbconvert_exporter": "python",
   "pygments_lexer": "ipython3",
   "version": "3.8.5"
  }
 },
 "nbformat": 4,
 "nbformat_minor": 4
}
